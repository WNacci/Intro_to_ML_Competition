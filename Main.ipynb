{
 "cells": [
  {
   "cell_type": "code",
   "execution_count": 1,
   "id": "91089bfc-7906-4537-8837-13b3ea30ff4f",
   "metadata": {},
   "outputs": [],
   "source": [
    "from Data_Input import Input_Data \n",
    "from Data_Processing import Basic_FE\n",
    "from Data_Splitting import train_test, train_test_val\n",
    "import numpy as np\n",
    "import pandas as pd\n",
    "import importlib\n",
    "\n",
    "\n",
    "#If things aren't working, restart kernel to force it to update imports\n",
    "#because python is dumb!"
   ]
  },
  {
   "cell_type": "code",
   "execution_count": 2,
   "id": "f2921975-55a6-4c1a-b825-0d591e152f61",
   "metadata": {
    "tags": []
   },
   "outputs": [],
   "source": [
    "# Inputs and processes data\n",
    "data = Input_Data()\n",
    "p_data = Basic_FE(data)\n",
    "#processed_data.info()\n"
   ]
  },
  {
   "cell_type": "code",
   "execution_count": 4,
   "id": "f58d4d6a-6754-400f-b8d9-f8c191adbcc8",
   "metadata": {
    "tags": []
   },
   "outputs": [
    {
     "name": "stdout",
     "output_type": "stream",
     "text": [
      "2.000053812624442\n"
     ]
    }
   ],
   "source": [
    "#Splits and resamples data\n",
    "split = train_test_val(p_data, 0.2,0.1)"
   ]
  },
  {
   "cell_type": "code",
   "execution_count": 7,
   "id": "03a70258-fd12-4931-87d3-39e9586bcdfb",
   "metadata": {
    "tags": []
   },
   "outputs": [],
   "source": [
    "#Fits and tests data"
   ]
  },
  {
   "cell_type": "markdown",
   "id": "315affb7-a682-4558-8aaf-68ffab12034c",
   "metadata": {},
   "source": [
    "# Basic Idea\n",
    "Make assumptions (feature engineering, what else..?)\n",
    "Run models (test assumptions)"
   ]
  },
  {
   "cell_type": "code",
   "execution_count": null,
   "id": "275ca473-6240-44c1-b61a-ba4c8bbe7443",
   "metadata": {},
   "outputs": [],
   "source": [
    "# Do different ML systems in separate files\n",
    "# Make a submission file as well\n",
    "# Bootstrapping option\n",
    "# Make ML model class to interface with rest of stuff\n",
    "\n",
    "\n",
    "\n",
    "\n",
    "#Basic structure:\n",
    "\n",
    "#X_test Y_test X_train_ Y_train\n",
    "\n",
    "#import model1 from model1\n",
    "#import model2 from model2\n",
    "#\n",
    "#models = [model1,model2,]\n",
    "#\n",
    "# for model in models:\n",
    "# model1(processed_data) (prints data)"
   ]
  }
 ],
 "metadata": {
  "kernelspec": {
   "display_name": "Python 3 (ipykernel)",
   "language": "python",
   "name": "python3"
  },
  "language_info": {
   "codemirror_mode": {
    "name": "ipython",
    "version": 3
   },
   "file_extension": ".py",
   "mimetype": "text/x-python",
   "name": "python",
   "nbconvert_exporter": "python",
   "pygments_lexer": "ipython3",
   "version": "3.11.4"
  }
 },
 "nbformat": 4,
 "nbformat_minor": 5
}
