{
 "cells": [
  {
   "cell_type": "code",
   "execution_count": 1,
   "id": "91089bfc-7906-4537-8837-13b3ea30ff4f",
   "metadata": {},
   "outputs": [],
   "source": [
    "from Data_Input import Input_Data \n",
    "from Data_Processing import Basic_FE\n",
    "from Data_Splitting import train_test \n",
    "import numpy as np\n",
    "import pandas as pd\n",
    "import importlib\n",
    "\n",
    "\n",
    "#If things aren't working, restart kernel to force it to update imports\n",
    "#because python is dumb!"
   ]
  },
  {
   "cell_type": "code",
   "execution_count": 2,
   "id": "f2921975-55a6-4c1a-b825-0d591e152f61",
   "metadata": {
    "tags": []
   },
   "outputs": [],
   "source": [
    "# Inputs and processes data\n",
    "data = Input_Data()\n",
    "p_data = Basic_FE(data)\n",
    "#processed_data.info()\n"
   ]
  },
  {
   "cell_type": "code",
   "execution_count": 4,
   "id": "f58d4d6a-6754-400f-b8d9-f8c191adbcc8",
   "metadata": {
    "tags": []
   },
   "outputs": [
    {
     "name": "stdout",
     "output_type": "stream",
     "text": [
      "<class 'pandas.core.frame.DataFrame'>\n",
      "Index: 148665 entries, 135011 to 128037\n",
      "Data columns (total 45 columns):\n",
      " #   Column                          Non-Null Count   Dtype  \n",
      "---  ------                          --------------   -----  \n",
      " 0   axonal_coor_x                   148665 non-null  int64  \n",
      " 1   axonal_coor_y                   148665 non-null  int64  \n",
      " 2   axonal_coor_z                   148665 non-null  int64  \n",
      " 3   dendritic_coor_x                148665 non-null  int64  \n",
      " 4   dendritic_coor_y                148665 non-null  int64  \n",
      " 5   dendritic_coor_z                148665 non-null  int64  \n",
      " 6   adp_dist                        148665 non-null  float64\n",
      " 7   post_skeletal_distance_to_soma  148665 non-null  float64\n",
      " 8   pre_skeletal_distance_to_soma   148665 non-null  float64\n",
      " 9   pre_oracle                      148665 non-null  float64\n",
      " 10  pre_test_score                  148665 non-null  float64\n",
      " 11  pre_rf_x                        148665 non-null  float64\n",
      " 12  pre_rf_y                        148665 non-null  float64\n",
      " 13  post_oracle                     148665 non-null  float64\n",
      " 14  post_test_score                 148665 non-null  float64\n",
      " 15  post_rf_x                       148665 non-null  float64\n",
      " 16  post_rf_y                       148665 non-null  float64\n",
      " 17  pre_nucleus_x                   148665 non-null  int64  \n",
      " 18  pre_nucleus_y                   148665 non-null  int64  \n",
      " 19  pre_nucleus_z                   148665 non-null  int64  \n",
      " 20  post_nucleus_x                  148665 non-null  int64  \n",
      " 21  post_nucleus_y                  148665 non-null  int64  \n",
      " 22  post_nucleus_z                  148665 non-null  int64  \n",
      " 23  pre_nucleus_id                  148665 non-null  int64  \n",
      " 24  post_nucleus_id                 148665 non-null  int64  \n",
      " 25  fw_similarity                   148665 non-null  float64\n",
      " 26  morph_similarity                148665 non-null  float64\n",
      " 27  rf_x_similarity                 148665 non-null  float64\n",
      " 28  rf_y_similarity                 148665 non-null  float64\n",
      " 29  projection_group_AL->AL         148665 non-null  float64\n",
      " 30  projection_group_AL->RL         148665 non-null  float64\n",
      " 31  projection_group_AL->V1         148665 non-null  float64\n",
      " 32  projection_group_RL->AL         148665 non-null  float64\n",
      " 33  projection_group_RL->RL         148665 non-null  float64\n",
      " 34  projection_group_RL->V1         148665 non-null  float64\n",
      " 35  projection_group_V1->AL         148665 non-null  float64\n",
      " 36  projection_group_V1->RL         148665 non-null  float64\n",
      " 37  projection_group_V1->V1         148665 non-null  float64\n",
      " 38  compartment_apical              148665 non-null  float64\n",
      " 39  compartment_apical_shaft        148665 non-null  float64\n",
      " 40  compartment_apical_tuft         148665 non-null  float64\n",
      " 41  compartment_axon                148665 non-null  float64\n",
      " 42  compartment_basal               148665 non-null  float64\n",
      " 43  compartment_oblique             148665 non-null  float64\n",
      " 44  compartment_soma                148665 non-null  float64\n",
      "dtypes: float64(31), int64(14)\n",
      "memory usage: 52.2 MB\n",
      "<class 'pandas.core.frame.DataFrame'>\n",
      "RangeIndex: 295140 entries, 0 to 295139\n",
      "Data columns (total 45 columns):\n",
      " #   Column                          Non-Null Count   Dtype  \n",
      "---  ------                          --------------   -----  \n",
      " 0   axonal_coor_x                   295140 non-null  int64  \n",
      " 1   axonal_coor_y                   295140 non-null  int64  \n",
      " 2   axonal_coor_z                   295140 non-null  int64  \n",
      " 3   dendritic_coor_x                295140 non-null  int64  \n",
      " 4   dendritic_coor_y                295140 non-null  int64  \n",
      " 5   dendritic_coor_z                295140 non-null  int64  \n",
      " 6   adp_dist                        295140 non-null  float64\n",
      " 7   post_skeletal_distance_to_soma  295140 non-null  float64\n",
      " 8   pre_skeletal_distance_to_soma   295140 non-null  float64\n",
      " 9   pre_oracle                      295140 non-null  float64\n",
      " 10  pre_test_score                  295140 non-null  float64\n",
      " 11  pre_rf_x                        295140 non-null  float64\n",
      " 12  pre_rf_y                        295140 non-null  float64\n",
      " 13  post_oracle                     295140 non-null  float64\n",
      " 14  post_test_score                 295140 non-null  float64\n",
      " 15  post_rf_x                       295140 non-null  float64\n",
      " 16  post_rf_y                       295140 non-null  float64\n",
      " 17  pre_nucleus_x                   295140 non-null  int64  \n",
      " 18  pre_nucleus_y                   295140 non-null  int64  \n",
      " 19  pre_nucleus_z                   295140 non-null  int64  \n",
      " 20  post_nucleus_x                  295140 non-null  int64  \n",
      " 21  post_nucleus_y                  295140 non-null  int64  \n",
      " 22  post_nucleus_z                  295140 non-null  int64  \n",
      " 23  pre_nucleus_id                  295140 non-null  int64  \n",
      " 24  post_nucleus_id                 295140 non-null  int64  \n",
      " 25  fw_similarity                   295140 non-null  float64\n",
      " 26  morph_similarity                295140 non-null  float64\n",
      " 27  rf_x_similarity                 295140 non-null  float64\n",
      " 28  rf_y_similarity                 295140 non-null  float64\n",
      " 29  projection_group_AL->AL         295140 non-null  float64\n",
      " 30  projection_group_AL->RL         295140 non-null  float64\n",
      " 31  projection_group_AL->V1         295140 non-null  float64\n",
      " 32  projection_group_RL->AL         295140 non-null  float64\n",
      " 33  projection_group_RL->RL         295140 non-null  float64\n",
      " 34  projection_group_RL->V1         295140 non-null  float64\n",
      " 35  projection_group_V1->AL         295140 non-null  float64\n",
      " 36  projection_group_V1->RL         295140 non-null  float64\n",
      " 37  projection_group_V1->V1         295140 non-null  float64\n",
      " 38  compartment_apical              295140 non-null  float64\n",
      " 39  compartment_apical_shaft        295140 non-null  float64\n",
      " 40  compartment_apical_tuft         295140 non-null  float64\n",
      " 41  compartment_axon                295140 non-null  float64\n",
      " 42  compartment_basal               295140 non-null  float64\n",
      " 43  compartment_oblique             295140 non-null  float64\n",
      " 44  compartment_soma                295140 non-null  float64\n",
      "dtypes: float64(31), int64(14)\n",
      "memory usage: 101.3 MB\n"
     ]
    }
   ],
   "source": [
    "#Splits and resamples data\n",
    "split = train_test(p_data, 0.2)\n",
    "split.trainx.info()\n",
    "split.resample()\n",
    "split.trainx.info()"
   ]
  },
  {
   "cell_type": "code",
   "execution_count": null,
   "id": "03a70258-fd12-4931-87d3-39e9586bcdfb",
   "metadata": {},
   "outputs": [],
   "source": [
    "#Fits and tests data"
   ]
  },
  {
   "cell_type": "markdown",
   "id": "315affb7-a682-4558-8aaf-68ffab12034c",
   "metadata": {},
   "source": [
    "# Basic Idea\n",
    "Make assumptions (feature engineering, what else..?)\n",
    "Run models (test assumptions)"
   ]
  },
  {
   "cell_type": "code",
   "execution_count": null,
   "id": "275ca473-6240-44c1-b61a-ba4c8bbe7443",
   "metadata": {},
   "outputs": [],
   "source": [
    "# Do different ML systems in separate files\n",
    "# Make a submission file as well\n",
    "# Bootstrapping option\n",
    "\n",
    "\n",
    "\n",
    "#Basic structure:\n",
    "\n",
    "#X_test Y_test X_train_ Y_train\n",
    "\n",
    "#import model1 from model1\n",
    "#import model2 from model2\n",
    "#\n",
    "#models = [model1,model2,]\n",
    "#\n",
    "# for model in models:\n",
    "# model1(processed_data) (prints data)"
   ]
  }
 ],
 "metadata": {
  "kernelspec": {
   "display_name": "Python 3 (ipykernel)",
   "language": "python",
   "name": "python3"
  },
  "language_info": {
   "codemirror_mode": {
    "name": "ipython",
    "version": 3
   },
   "file_extension": ".py",
   "mimetype": "text/x-python",
   "name": "python",
   "nbconvert_exporter": "python",
   "pygments_lexer": "ipython3",
   "version": "3.11.4"
  }
 },
 "nbformat": 4,
 "nbformat_minor": 5
}
