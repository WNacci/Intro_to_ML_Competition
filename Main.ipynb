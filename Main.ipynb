{
 "cells": [
  {
   "cell_type": "code",
   "execution_count": 2,
   "id": "91089bfc-7906-4537-8837-13b3ea30ff4f",
   "metadata": {
    "tags": []
   },
   "outputs": [],
   "source": [
    "import sys\n",
    "sys.path.append('/home/williamn/.conda/envs/ML-conda-env/lib/python3.11/site-packages')\n",
    "\n",
    "from Data_Input import Input_Data, leaderboard_data\n",
    "from Data_Processing import Basic_FE, xg_FE\n",
    "from Data_Splitting import train, train_test, train_test_val\n",
    "import numpy as np\n",
    "import pandas as pd\n",
    "import matplotlib.pyplot as plt\n",
    "import seaborn as sns\n",
    "\n",
    "\n",
    "#If things aren't working, restart kernel to force it to update imports\n",
    "#because python is dumb!"
   ]
  },
  {
   "cell_type": "markdown",
   "id": "535fb4cd-30e0-45d3-9410-7a0aebe696dc",
   "metadata": {
    "jp-MarkdownHeadingCollapsed": true,
    "tags": []
   },
   "source": [
    "# Other Stuff"
   ]
  },
  {
   "cell_type": "code",
   "execution_count": null,
   "id": "f2921975-55a6-4c1a-b825-0d591e152f61",
   "metadata": {
    "tags": []
   },
   "outputs": [],
   "source": [
    "# Inputs and processes data\n",
    "data = Input_Data()\n",
    "p_data = Basic_FE(data)\n",
    "#processed_data.info()\n"
   ]
  },
  {
   "cell_type": "code",
   "execution_count": 3,
   "id": "14940f53-7a1d-4215-80b5-5df620a88f72",
   "metadata": {
    "tags": []
   },
   "outputs": [
    {
     "name": "stdout",
     "output_type": "stream",
     "text": [
      "<class 'pandas.core.frame.DataFrame'>\n",
      "Int64Index: 185832 entries, 0 to 185831\n",
      "Data columns (total 41 columns):\n",
      " #   Column                          Non-Null Count   Dtype  \n",
      "---  ------                          --------------   -----  \n",
      " 0   ID                              185832 non-null  int64  \n",
      " 1   axonal_coor_x                   185832 non-null  int64  \n",
      " 2   axonal_coor_y                   185832 non-null  int64  \n",
      " 3   axonal_coor_z                   185832 non-null  int64  \n",
      " 4   dendritic_coor_x                185832 non-null  int64  \n",
      " 5   dendritic_coor_y                185832 non-null  int64  \n",
      " 6   dendritic_coor_z                185832 non-null  int64  \n",
      " 7   adp_dist                        185832 non-null  float64\n",
      " 8   post_skeletal_distance_to_soma  185832 non-null  float64\n",
      " 9   pre_skeletal_distance_to_soma   185832 non-null  float64\n",
      " 10  pre_oracle                      185832 non-null  float64\n",
      " 11  pre_test_score                  185832 non-null  float64\n",
      " 12  pre_rf_x                        185832 non-null  float64\n",
      " 13  pre_rf_y                        185832 non-null  float64\n",
      " 14  post_oracle                     185832 non-null  float64\n",
      " 15  post_test_score                 185832 non-null  float64\n",
      " 16  post_rf_x                       185832 non-null  float64\n",
      " 17  post_rf_y                       185832 non-null  float64\n",
      " 18  compartment                     185832 non-null  object \n",
      " 19  pre_brain_area                  185832 non-null  object \n",
      " 20  post_brain_area                 185832 non-null  object \n",
      " 21  pre_nucleus_x                   185832 non-null  int64  \n",
      " 22  pre_nucleus_y                   185832 non-null  int64  \n",
      " 23  pre_nucleus_z                   185832 non-null  int64  \n",
      " 24  post_nucleus_x                  185832 non-null  int64  \n",
      " 25  post_nucleus_y                  185832 non-null  int64  \n",
      " 26  post_nucleus_z                  185832 non-null  int64  \n",
      " 27  pre_nucleus_id                  185832 non-null  int64  \n",
      " 28  post_nucleus_id                 185832 non-null  int64  \n",
      " 29  connected                       185832 non-null  bool   \n",
      " 30  pre_feature_weights             185832 non-null  object \n",
      " 31  post_feature_weights            185832 non-null  object \n",
      " 32  pre_morph_embeddings            138123 non-null  object \n",
      " 33  post_morph_embeddings           185832 non-null  object \n",
      " 34  pre_cluster                     185832 non-null  int32  \n",
      " 35  post_cluster                    185832 non-null  int32  \n",
      " 36  fw_similarity                   185832 non-null  float64\n",
      " 37  morph_similarity                185832 non-null  float64\n",
      " 38  rf_x_similarity                 185832 non-null  float64\n",
      " 39  rf_y_similarity                 185832 non-null  float64\n",
      " 40  projection_group                185832 non-null  object \n",
      "dtypes: bool(1), float64(15), int32(2), int64(15), object(8)\n",
      "memory usage: 56.9+ MB\n"
     ]
    }
   ],
   "source": [
    "data.info()"
   ]
  },
  {
   "cell_type": "code",
   "execution_count": null,
   "id": "16051442-1d83-4405-9888-19c2c7789903",
   "metadata": {
    "tags": []
   },
   "outputs": [],
   "source": [
    "with pd.option_context('display.max_rows', None, 'display.max_columns', None):\n",
    "    display(data[data[\"connected\"]==True])"
   ]
  },
  {
   "cell_type": "code",
   "execution_count": 9,
   "id": "79224462-3104-443c-b79f-3c2d7a050a60",
   "metadata": {
    "tags": []
   },
   "outputs": [
    {
     "name": "stdout",
     "output_type": "stream",
     "text": [
      "<class 'pandas.core.frame.DataFrame'>\n",
      "Int64Index: 185832 entries, 0 to 185831\n",
      "Data columns (total 33 columns):\n",
      " #   Column                          Non-Null Count   Dtype   \n",
      "---  ------                          --------------   -----   \n",
      " 0   axonal_coor_x                   185832 non-null  int64   \n",
      " 1   axonal_coor_y                   185832 non-null  int64   \n",
      " 2   axonal_coor_z                   185832 non-null  int64   \n",
      " 3   dendritic_coor_x                185832 non-null  int64   \n",
      " 4   dendritic_coor_y                185832 non-null  int64   \n",
      " 5   dendritic_coor_z                185832 non-null  int64   \n",
      " 6   adp_dist                        185832 non-null  float64 \n",
      " 7   post_skeletal_distance_to_soma  185832 non-null  float64 \n",
      " 8   pre_skeletal_distance_to_soma   185832 non-null  float64 \n",
      " 9   pre_oracle                      185832 non-null  float64 \n",
      " 10  pre_test_score                  185832 non-null  float64 \n",
      " 11  post_oracle                     185832 non-null  float64 \n",
      " 12  post_test_score                 185832 non-null  float64 \n",
      " 13  pre_nucleus_x                   185832 non-null  int64   \n",
      " 14  pre_nucleus_y                   185832 non-null  int64   \n",
      " 15  pre_nucleus_z                   185832 non-null  int64   \n",
      " 16  post_nucleus_x                  185832 non-null  int64   \n",
      " 17  post_nucleus_y                  185832 non-null  int64   \n",
      " 18  post_nucleus_z                  185832 non-null  int64   \n",
      " 19  connected                       185832 non-null  bool    \n",
      " 20  fw_similarity                   185832 non-null  float64 \n",
      " 21  morph_similarity                185832 non-null  float64 \n",
      " 22  rf_similarity                   185832 non-null  float64 \n",
      " 23  rf_x_similarity                 185832 non-null  float64 \n",
      " 24  rf_y_similarity                 185832 non-null  float64 \n",
      " 25  nuclear_dist                    185832 non-null  float64 \n",
      " 26  oracle_diff                     185832 non-null  float64 \n",
      " 27  total_path                      185832 non-null  float64 \n",
      " 28  path_to_dist                    185832 non-null  float64 \n",
      " 29  compartment                     185832 non-null  category\n",
      " 30  projection_group                185832 non-null  category\n",
      " 31  pre_cluster                     185832 non-null  category\n",
      " 32  post_cluster                    185832 non-null  category\n",
      "dtypes: bool(1), category(4), float64(16), int64(12)\n",
      "memory usage: 42.0 MB\n"
     ]
    }
   ],
   "source": [
    "p_data[p_data[\"connected\"]==True]['pre_cluster'].unique()"
   ]
  },
  {
   "cell_type": "code",
   "execution_count": null,
   "id": "f58d4d6a-6754-400f-b8d9-f8c191adbcc8",
   "metadata": {
    "tags": []
   },
   "outputs": [],
   "source": [
    "#Splits and resamples data\n",
    "#split = train_test_val(p_data, 0.2,0.1)\n",
    "split = train_test(p_data, 0.2)\n",
    "split.resample()"
   ]
  },
  {
   "cell_type": "code",
   "execution_count": 11,
   "id": "03a70258-fd12-4931-87d3-39e9586bcdfb",
   "metadata": {
    "tags": []
   },
   "outputs": [],
   "source": [
    "#Fits and tests data"
   ]
  },
  {
   "cell_type": "markdown",
   "id": "315affb7-a682-4558-8aaf-68ffab12034c",
   "metadata": {
    "jp-MarkdownHeadingCollapsed": true,
    "tags": []
   },
   "source": [
    "# Basic Idea\n",
    "Make assumptions (feature engineering, what else..?)\n",
    "Run models (test assumptions)"
   ]
  },
  {
   "cell_type": "code",
   "execution_count": 20,
   "id": "275ca473-6240-44c1-b61a-ba4c8bbe7443",
   "metadata": {},
   "outputs": [],
   "source": [
    "# Do different ML systems in separate files\n",
    "# Make a submission file as well\n",
    "# Bootstrapping option\n",
    "# Make ML model class to interface with rest of stuff\n",
    "\n",
    "\n",
    "\n",
    "\n",
    "#Basic structure:\n",
    "\n",
    "#X_test Y_test X_train_ Y_train\n",
    "\n",
    "#import model1 from model1\n",
    "#import model2 from model2\n",
    "#\n",
    "#models = [model1,model2,]\n",
    "#\n",
    "# for model in models:\n",
    "# model1(processed_data) (prints data)"
   ]
  },
  {
   "cell_type": "markdown",
   "id": "2c026b1f-ca2a-4038-8246-ea5567494a12",
   "metadata": {
    "jp-MarkdownHeadingCollapsed": true,
    "tags": []
   },
   "source": [
    "# Random Forest "
   ]
  },
  {
   "cell_type": "code",
   "execution_count": 28,
   "id": "a0f98503-406d-4f46-adbd-1667d466ad7e",
   "metadata": {
    "tags": []
   },
   "outputs": [],
   "source": [
    "# random forest with random undersampling for imbalanced classification\n",
    "from numpy import mean\n",
    "from sklearn.datasets import make_classification\n",
    "from sklearn.model_selection import cross_val_score\n",
    "from sklearn.model_selection import RepeatedStratifiedKFold\n",
    "from sklearn.metrics import balanced_accuracy_score, accuracy_score, confusion_matrix\n",
    "from sklearn.ensemble import RandomForestClassifier\n",
    "from imblearn.ensemble import BalancedRandomForestClassifier\n",
    "#make data easier to work with\n",
    "X = split.trainx\n",
    "y = split.trainy\n",
    "Xtest = split.testx\n",
    "ytest = split.testy\n"
   ]
  },
  {
   "cell_type": "code",
   "execution_count": 68,
   "id": "4214106b-7a78-42a6-a64e-16816f2d7e4e",
   "metadata": {},
   "outputs": [],
   "source": [
    "# Setting up hyperparameters (HP's)\n",
    "# Each comment and accompanying initalization defines a hyperparameter (HP) used for the construction of the model\n",
    "# to include a HP delete the '##' at the beginning of the line used for the initialization of the HP \n",
    "# to exclude a HP add '##' at the beginning of the initialization line for the HP\n",
    "# to add a new HP follow the convention described above and shown below\n",
    "# WARNING: will need to update param grid if changes are made to prevent errors\n",
    "\n",
    "# Number of trees in the random forest \n",
    "n_estimators = [int(x) for x in np.linspace(start = 50, stop = 1000, num = 6)]\n",
    "\n",
    "# Criterion used to determine quality of the split \n",
    "## criterion = ['gini', 'entropy']\n",
    "\n",
    "# Max depth of the tree\n",
    "max_depth = [int(x) for x in np.linspace(start = 2, stop = 50, num = 5)]\n",
    "\n",
    "# Minimum number of samples required to split a node\n",
    "min_samples_split = [int(x) for x in np.linspace(start = 1, stop = 10, num = 3)]\n",
    "\n",
    "# Minimum number of samples required for there to be a lead at a node\n",
    "min_samples_leaf = [int(x) for x in np.linspace(start = 1, stop = 10, num = 3)]\n",
    "\n",
    "# Minimum weighted fractions of the sum total of all weights requried for there to be a leaf at a node\n",
    "##\n",
    "\n",
    "# Number of features considered when looking for the best split\n",
    "max_features = ['sqrt', 'log2']\n",
    "\n",
    "# Whether or not to bootstrap samples (certainly should always be done for our data set, but left here as an option)\n",
    "## bootstrap = [True, False]\n"
   ]
  },
  {
   "cell_type": "code",
   "execution_count": 69,
   "id": "e1c1dec5-8906-4a90-8e51-e2736a7466b5",
   "metadata": {},
   "outputs": [
    {
     "name": "stdout",
     "output_type": "stream",
     "text": [
      "{'n_estimators': [50, 240, 430, 620, 810, 1000], 'max_depth': [4, 8], 'min_samples_split': [2, 5], 'min_samples_leaf': [1, 2], 'max_features': ['sqrt', 'log2']}\n"
     ]
    }
   ],
   "source": [
    "# Creating a parameter grid \n",
    "random_grid = {'n_estimators' : n_estimators,\n",
    "              'max_depth'  : max_depth,\n",
    "              'min_samples_split' : min_samples_split,\n",
    "              'min_samples_leaf' : min_samples_leaf,\n",
    "              'max_features' : max_features}\n",
    "\n",
    "print(random_grid)"
   ]
  },
  {
   "cell_type": "code",
   "execution_count": 70,
   "id": "cc0b5df4-0741-4c1b-9d01-f97dde93e6ee",
   "metadata": {},
   "outputs": [],
   "source": [
    "# define model\n",
    "## model = BalancedRandomForestClassifier()\n",
    "model = BalancedRandomForestClassifier()"
   ]
  },
  {
   "cell_type": "code",
   "execution_count": null,
   "id": "30bcd3bd-81f9-40cf-bb1b-86ccb0be75b1",
   "metadata": {},
   "outputs": [],
   "source": [
    "from sklearn.model_selection import GridSearchCV\n",
    "rf_Grid = GridSearchCV(estimator = model, param_grid = random_grid, cv = 5, verbose = 2, n_jobs=4)"
   ]
  },
  {
   "cell_type": "code",
   "execution_count": 72,
   "id": "fd4a670d-3239-4ad7-98c8-082517fedc8a",
   "metadata": {},
   "outputs": [
    {
     "name": "stdout",
     "output_type": "stream",
     "text": [
      "Fitting 2 folds for each of 96 candidates, totalling 192 fits\n"
     ]
    },
    {
     "name": "stderr",
     "output_type": "stream",
     "text": [
      "c:\\Users\\jacob\\AppData\\Local\\Programs\\Python\\Python312\\Lib\\site-packages\\imblearn\\ensemble\\_forest.py:546: FutureWarning: The default of `sampling_strategy` will change from `'auto'` to `'all'` in version 0.13. This change will follow the implementation proposed in the original paper. Set to `'all'` to silence this warning and adopt the future behaviour.\n",
      "  warn(\n",
      "c:\\Users\\jacob\\AppData\\Local\\Programs\\Python\\Python312\\Lib\\site-packages\\imblearn\\ensemble\\_forest.py:558: FutureWarning: The default of `replacement` will change from `False` to `True` in version 0.13. This change will follow the implementation proposed in the original paper. Set to `True` to silence this warning and adopt the future behaviour.\n",
      "  warn(\n"
     ]
    },
    {
     "data": {
      "text/html": [
       "<style>#sk-container-id-2 {color: black;}#sk-container-id-2 pre{padding: 0;}#sk-container-id-2 div.sk-toggleable {background-color: white;}#sk-container-id-2 label.sk-toggleable__label {cursor: pointer;display: block;width: 100%;margin-bottom: 0;padding: 0.3em;box-sizing: border-box;text-align: center;}#sk-container-id-2 label.sk-toggleable__label-arrow:before {content: \"▸\";float: left;margin-right: 0.25em;color: #696969;}#sk-container-id-2 label.sk-toggleable__label-arrow:hover:before {color: black;}#sk-container-id-2 div.sk-estimator:hover label.sk-toggleable__label-arrow:before {color: black;}#sk-container-id-2 div.sk-toggleable__content {max-height: 0;max-width: 0;overflow: hidden;text-align: left;background-color: #f0f8ff;}#sk-container-id-2 div.sk-toggleable__content pre {margin: 0.2em;color: black;border-radius: 0.25em;background-color: #f0f8ff;}#sk-container-id-2 input.sk-toggleable__control:checked~div.sk-toggleable__content {max-height: 200px;max-width: 100%;overflow: auto;}#sk-container-id-2 input.sk-toggleable__control:checked~label.sk-toggleable__label-arrow:before {content: \"▾\";}#sk-container-id-2 div.sk-estimator input.sk-toggleable__control:checked~label.sk-toggleable__label {background-color: #d4ebff;}#sk-container-id-2 div.sk-label input.sk-toggleable__control:checked~label.sk-toggleable__label {background-color: #d4ebff;}#sk-container-id-2 input.sk-hidden--visually {border: 0;clip: rect(1px 1px 1px 1px);clip: rect(1px, 1px, 1px, 1px);height: 1px;margin: -1px;overflow: hidden;padding: 0;position: absolute;width: 1px;}#sk-container-id-2 div.sk-estimator {font-family: monospace;background-color: #f0f8ff;border: 1px dotted black;border-radius: 0.25em;box-sizing: border-box;margin-bottom: 0.5em;}#sk-container-id-2 div.sk-estimator:hover {background-color: #d4ebff;}#sk-container-id-2 div.sk-parallel-item::after {content: \"\";width: 100%;border-bottom: 1px solid gray;flex-grow: 1;}#sk-container-id-2 div.sk-label:hover label.sk-toggleable__label {background-color: #d4ebff;}#sk-container-id-2 div.sk-serial::before {content: \"\";position: absolute;border-left: 1px solid gray;box-sizing: border-box;top: 0;bottom: 0;left: 50%;z-index: 0;}#sk-container-id-2 div.sk-serial {display: flex;flex-direction: column;align-items: center;background-color: white;padding-right: 0.2em;padding-left: 0.2em;position: relative;}#sk-container-id-2 div.sk-item {position: relative;z-index: 1;}#sk-container-id-2 div.sk-parallel {display: flex;align-items: stretch;justify-content: center;background-color: white;position: relative;}#sk-container-id-2 div.sk-item::before, #sk-container-id-2 div.sk-parallel-item::before {content: \"\";position: absolute;border-left: 1px solid gray;box-sizing: border-box;top: 0;bottom: 0;left: 50%;z-index: -1;}#sk-container-id-2 div.sk-parallel-item {display: flex;flex-direction: column;z-index: 1;position: relative;background-color: white;}#sk-container-id-2 div.sk-parallel-item:first-child::after {align-self: flex-end;width: 50%;}#sk-container-id-2 div.sk-parallel-item:last-child::after {align-self: flex-start;width: 50%;}#sk-container-id-2 div.sk-parallel-item:only-child::after {width: 0;}#sk-container-id-2 div.sk-dashed-wrapped {border: 1px dashed gray;margin: 0 0.4em 0.5em 0.4em;box-sizing: border-box;padding-bottom: 0.4em;background-color: white;}#sk-container-id-2 div.sk-label label {font-family: monospace;font-weight: bold;display: inline-block;line-height: 1.2em;}#sk-container-id-2 div.sk-label-container {text-align: center;}#sk-container-id-2 div.sk-container {/* jupyter's `normalize.less` sets `[hidden] { display: none; }` but bootstrap.min.css set `[hidden] { display: none !important; }` so we also need the `!important` here to be able to override the default hidden behavior on the sphinx rendered scikit-learn.org. See: https://github.com/scikit-learn/scikit-learn/issues/21755 */display: inline-block !important;position: relative;}#sk-container-id-2 div.sk-text-repr-fallback {display: none;}</style><div id=\"sk-container-id-2\" class=\"sk-top-container\"><div class=\"sk-text-repr-fallback\"><pre>GridSearchCV(cv=2, estimator=BalancedRandomForestClassifier(), n_jobs=4,\n",
       "             param_grid={&#x27;max_depth&#x27;: [4, 8], &#x27;max_features&#x27;: [&#x27;sqrt&#x27;, &#x27;log2&#x27;],\n",
       "                         &#x27;min_samples_leaf&#x27;: [1, 2],\n",
       "                         &#x27;min_samples_split&#x27;: [2, 5],\n",
       "                         &#x27;n_estimators&#x27;: [50, 240, 430, 620, 810, 1000]},\n",
       "             verbose=2)</pre><b>In a Jupyter environment, please rerun this cell to show the HTML representation or trust the notebook. <br />On GitHub, the HTML representation is unable to render, please try loading this page with nbviewer.org.</b></div><div class=\"sk-container\" hidden><div class=\"sk-item sk-dashed-wrapped\"><div class=\"sk-label-container\"><div class=\"sk-label sk-toggleable\"><input class=\"sk-toggleable__control sk-hidden--visually\" id=\"sk-estimator-id-4\" type=\"checkbox\" ><label for=\"sk-estimator-id-4\" class=\"sk-toggleable__label sk-toggleable__label-arrow\">GridSearchCV</label><div class=\"sk-toggleable__content\"><pre>GridSearchCV(cv=2, estimator=BalancedRandomForestClassifier(), n_jobs=4,\n",
       "             param_grid={&#x27;max_depth&#x27;: [4, 8], &#x27;max_features&#x27;: [&#x27;sqrt&#x27;, &#x27;log2&#x27;],\n",
       "                         &#x27;min_samples_leaf&#x27;: [1, 2],\n",
       "                         &#x27;min_samples_split&#x27;: [2, 5],\n",
       "                         &#x27;n_estimators&#x27;: [50, 240, 430, 620, 810, 1000]},\n",
       "             verbose=2)</pre></div></div></div><div class=\"sk-parallel\"><div class=\"sk-parallel-item\"><div class=\"sk-item\"><div class=\"sk-label-container\"><div class=\"sk-label sk-toggleable\"><input class=\"sk-toggleable__control sk-hidden--visually\" id=\"sk-estimator-id-5\" type=\"checkbox\" ><label for=\"sk-estimator-id-5\" class=\"sk-toggleable__label sk-toggleable__label-arrow\">estimator: BalancedRandomForestClassifier</label><div class=\"sk-toggleable__content\"><pre>BalancedRandomForestClassifier()</pre></div></div></div><div class=\"sk-serial\"><div class=\"sk-item\"><div class=\"sk-estimator sk-toggleable\"><input class=\"sk-toggleable__control sk-hidden--visually\" id=\"sk-estimator-id-6\" type=\"checkbox\" ><label for=\"sk-estimator-id-6\" class=\"sk-toggleable__label sk-toggleable__label-arrow\">BalancedRandomForestClassifier</label><div class=\"sk-toggleable__content\"><pre>BalancedRandomForestClassifier()</pre></div></div></div></div></div></div></div></div></div></div>"
      ],
      "text/plain": [
       "GridSearchCV(cv=2, estimator=BalancedRandomForestClassifier(), n_jobs=4,\n",
       "             param_grid={'max_depth': [4, 8], 'max_features': ['sqrt', 'log2'],\n",
       "                         'min_samples_leaf': [1, 2],\n",
       "                         'min_samples_split': [2, 5],\n",
       "                         'n_estimators': [50, 240, 430, 620, 810, 1000]},\n",
       "             verbose=2)"
      ]
     },
     "execution_count": 72,
     "metadata": {},
     "output_type": "execute_result"
    }
   ],
   "source": [
    "rf_Grid.fit(X, y)"
   ]
  },
  {
   "cell_type": "code",
   "execution_count": 67,
   "id": "480f89fd-ef84-4d41-8322-1c6f57b47a57",
   "metadata": {},
   "outputs": [
    {
     "name": "stdout",
     "output_type": "stream",
     "text": [
      "Balanced accuracy: 0.7782139589176853\n"
     ]
    }
   ],
   "source": [
    "\n",
    "y_pred = rf_Grid.predict(Xtest)\n",
    "print(f\"Balanced accuracy: {balanced_accuracy_score(ytest, y_pred > 0.5)}\")"
   ]
  },
  {
   "cell_type": "markdown",
   "id": "6beaaf0b-e59d-4047-a2cd-a82e8ff0b15e",
   "metadata": {
    "jp-MarkdownHeadingCollapsed": true,
    "tags": []
   },
   "source": [
    "# AdaBoost"
   ]
  },
  {
   "cell_type": "code",
   "execution_count": 10,
   "id": "f253578a-2fec-4969-8073-6adaab4c8745",
   "metadata": {
    "tags": []
   },
   "outputs": [
    {
     "name": "stdout",
     "output_type": "stream",
     "text": [
      "Accuracy: 0.72\n"
     ]
    }
   ],
   "source": [
    "from sklearn.ensemble import AdaBoostClassifier\n",
    "from sklearn.tree import DecisionTreeClassifier\n",
    "from sklearn.metrics import balanced_accuracy_score, accuracy_score, confusion_matrix\n",
    "\n",
    "# Create AdaBoostClassifier with DecisionTreeClassifier as the base estimator\n",
    "base_estimator = DecisionTreeClassifier(max_depth=1)  # Decision Stump\n",
    "adaboost = AdaBoostClassifier(estimator=base_estimator, n_estimators=100, random_state=42)\n",
    "adaboost.fit(split.trainx, split.trainy, )\n",
    "\n",
    "\n",
    "# Predict on the test data\n",
    "y_pred = adaboost.predict(split.testx)\n",
    "\n",
    "# Calculate the accuracy\n",
    "accuracy = accuracy_score(split.testy, y_pred)\n",
    "print(f\"Accuracy: {accuracy:.2f}\")# Calculate the accuracy\n",
    "accuracy = accuracy_score(split.testy, y_pred)\n",
    "# confusion matrix\n",
    "print(confusion_matrix(split.testy, y_pred > .5))\n",
    "print(f\"Accuracy: {accuracy:.2f}\")\n",
    "print(\n",
    "    f\"Balanced Accuracy: {balanced_accuracy_score(split.testy, y_pred > .5)}\"\n",
    ")"
   ]
  },
  {
   "cell_type": "code",
   "execution_count": 34,
   "id": "81bcbd96-683e-44aa-b5e5-b4a434c3c608",
   "metadata": {
    "tags": []
   },
   "outputs": [
    {
     "ename": "ValueError",
     "evalue": "could not convert string to float: 'basal'",
     "output_type": "error",
     "traceback": [
      "\u001b[0;31m---------------------------------------------------------------------------\u001b[0m",
      "\u001b[0;31mValueError\u001b[0m                                Traceback (most recent call last)",
      "\u001b[0;32m/tmp/ipykernel_20870/1614437366.py\u001b[0m in \u001b[0;36m?\u001b[0;34m()\u001b[0m\n\u001b[1;32m      1\u001b[0m \u001b[0;32mfrom\u001b[0m \u001b[0msklearn\u001b[0m\u001b[0;34m.\u001b[0m\u001b[0mensemble\u001b[0m \u001b[0;32mimport\u001b[0m \u001b[0mGradientBoostingClassifier\u001b[0m  \u001b[0;31m# For classification tasks\u001b[0m\u001b[0;34m\u001b[0m\u001b[0;34m\u001b[0m\u001b[0m\n\u001b[1;32m      2\u001b[0m \u001b[0;32mfrom\u001b[0m \u001b[0msklearn\u001b[0m\u001b[0;34m.\u001b[0m\u001b[0mmetrics\u001b[0m \u001b[0;32mimport\u001b[0m \u001b[0mbalanced_accuracy_score\u001b[0m\u001b[0;34m,\u001b[0m \u001b[0maccuracy_score\u001b[0m\u001b[0;34m,\u001b[0m \u001b[0mconfusion_matrix\u001b[0m\u001b[0;34m\u001b[0m\u001b[0;34m\u001b[0m\u001b[0m\n\u001b[1;32m      3\u001b[0m \u001b[0;34m\u001b[0m\u001b[0m\n\u001b[1;32m      4\u001b[0m \u001b[0mgboost\u001b[0m \u001b[0;34m=\u001b[0m \u001b[0mGradientBoostingClassifier\u001b[0m\u001b[0;34m(\u001b[0m\u001b[0mn_estimators\u001b[0m\u001b[0;34m=\u001b[0m\u001b[0;36m200\u001b[0m\u001b[0;34m,\u001b[0m \u001b[0mlearning_rate\u001b[0m\u001b[0;34m=\u001b[0m\u001b[0;36m0.1\u001b[0m\u001b[0;34m,\u001b[0m \u001b[0mmax_depth\u001b[0m\u001b[0;34m=\u001b[0m\u001b[0;36m3\u001b[0m\u001b[0;34m,\u001b[0m \u001b[0mrandom_state\u001b[0m\u001b[0;34m=\u001b[0m\u001b[0;36m42\u001b[0m\u001b[0;34m)\u001b[0m\u001b[0;34m\u001b[0m\u001b[0;34m\u001b[0m\u001b[0m\n\u001b[0;32m----> 5\u001b[0;31m \u001b[0mgboost\u001b[0m\u001b[0;34m.\u001b[0m\u001b[0mfit\u001b[0m\u001b[0;34m(\u001b[0m\u001b[0msplit\u001b[0m\u001b[0;34m.\u001b[0m\u001b[0mtrainx\u001b[0m\u001b[0;34m,\u001b[0m \u001b[0msplit\u001b[0m\u001b[0;34m.\u001b[0m\u001b[0mtrainy\u001b[0m\u001b[0;34m)\u001b[0m\u001b[0;34m\u001b[0m\u001b[0;34m\u001b[0m\u001b[0m\n\u001b[0m\u001b[1;32m      6\u001b[0m \u001b[0;34m\u001b[0m\u001b[0m\n\u001b[1;32m      7\u001b[0m \u001b[0my_pred\u001b[0m \u001b[0;34m=\u001b[0m \u001b[0mgboost\u001b[0m\u001b[0;34m.\u001b[0m\u001b[0mpredict\u001b[0m\u001b[0;34m(\u001b[0m\u001b[0msplit\u001b[0m\u001b[0;34m.\u001b[0m\u001b[0mtestx\u001b[0m\u001b[0;34m)\u001b[0m\u001b[0;34m\u001b[0m\u001b[0;34m\u001b[0m\u001b[0m\n\u001b[1;32m      8\u001b[0m \u001b[0;34m\u001b[0m\u001b[0m\n",
      "\u001b[0;32m~/.conda/envs/ML-conda-env/lib/python3.11/site-packages/sklearn/base.py\u001b[0m in \u001b[0;36m?\u001b[0;34m(estimator, *args, **kwargs)\u001b[0m\n\u001b[1;32m   1147\u001b[0m                 skip_parameter_validation=(\n\u001b[1;32m   1148\u001b[0m                     \u001b[0mprefer_skip_nested_validation\u001b[0m \u001b[0;32mor\u001b[0m \u001b[0mglobal_skip_validation\u001b[0m\u001b[0;34m\u001b[0m\u001b[0;34m\u001b[0m\u001b[0m\n\u001b[1;32m   1149\u001b[0m                 )\n\u001b[1;32m   1150\u001b[0m             ):\n\u001b[0;32m-> 1151\u001b[0;31m                 \u001b[0;32mreturn\u001b[0m \u001b[0mfit_method\u001b[0m\u001b[0;34m(\u001b[0m\u001b[0mestimator\u001b[0m\u001b[0;34m,\u001b[0m \u001b[0;34m*\u001b[0m\u001b[0margs\u001b[0m\u001b[0;34m,\u001b[0m \u001b[0;34m**\u001b[0m\u001b[0mkwargs\u001b[0m\u001b[0;34m)\u001b[0m\u001b[0;34m\u001b[0m\u001b[0;34m\u001b[0m\u001b[0m\n\u001b[0m",
      "\u001b[0;32m~/.conda/envs/ML-conda-env/lib/python3.11/site-packages/sklearn/ensemble/_gb.py\u001b[0m in \u001b[0;36m?\u001b[0;34m(self, X, y, sample_weight, monitor)\u001b[0m\n\u001b[1;32m    412\u001b[0m         \u001b[0;31m# Check input\u001b[0m\u001b[0;34m\u001b[0m\u001b[0;34m\u001b[0m\u001b[0m\n\u001b[1;32m    413\u001b[0m         \u001b[0;31m# Since check_array converts both X and y to the same dtype, but the\u001b[0m\u001b[0;34m\u001b[0m\u001b[0;34m\u001b[0m\u001b[0m\n\u001b[1;32m    414\u001b[0m         \u001b[0;31m# trees use different types for X and y, checking them separately.\u001b[0m\u001b[0;34m\u001b[0m\u001b[0;34m\u001b[0m\u001b[0m\n\u001b[1;32m    415\u001b[0m \u001b[0;34m\u001b[0m\u001b[0m\n\u001b[0;32m--> 416\u001b[0;31m         X, y = self._validate_data(\n\u001b[0m\u001b[1;32m    417\u001b[0m             \u001b[0mX\u001b[0m\u001b[0;34m,\u001b[0m \u001b[0my\u001b[0m\u001b[0;34m,\u001b[0m \u001b[0maccept_sparse\u001b[0m\u001b[0;34m=\u001b[0m\u001b[0;34m[\u001b[0m\u001b[0;34m\"csr\"\u001b[0m\u001b[0;34m,\u001b[0m \u001b[0;34m\"csc\"\u001b[0m\u001b[0;34m,\u001b[0m \u001b[0;34m\"coo\"\u001b[0m\u001b[0;34m]\u001b[0m\u001b[0;34m,\u001b[0m \u001b[0mdtype\u001b[0m\u001b[0;34m=\u001b[0m\u001b[0mDTYPE\u001b[0m\u001b[0;34m,\u001b[0m \u001b[0mmulti_output\u001b[0m\u001b[0;34m=\u001b[0m\u001b[0;32mTrue\u001b[0m\u001b[0;34m\u001b[0m\u001b[0;34m\u001b[0m\u001b[0m\n\u001b[1;32m    418\u001b[0m         )\n\u001b[1;32m    419\u001b[0m \u001b[0;34m\u001b[0m\u001b[0m\n",
      "\u001b[0;32m~/.conda/envs/ML-conda-env/lib/python3.11/site-packages/sklearn/base.py\u001b[0m in \u001b[0;36m?\u001b[0;34m(self, X, y, reset, validate_separately, cast_to_ndarray, **check_params)\u001b[0m\n\u001b[1;32m    617\u001b[0m                 \u001b[0;32mif\u001b[0m \u001b[0;34m\"estimator\"\u001b[0m \u001b[0;32mnot\u001b[0m \u001b[0;32min\u001b[0m \u001b[0mcheck_y_params\u001b[0m\u001b[0;34m:\u001b[0m\u001b[0;34m\u001b[0m\u001b[0;34m\u001b[0m\u001b[0m\n\u001b[1;32m    618\u001b[0m                     \u001b[0mcheck_y_params\u001b[0m \u001b[0;34m=\u001b[0m \u001b[0;34m{\u001b[0m\u001b[0;34m**\u001b[0m\u001b[0mdefault_check_params\u001b[0m\u001b[0;34m,\u001b[0m \u001b[0;34m**\u001b[0m\u001b[0mcheck_y_params\u001b[0m\u001b[0;34m}\u001b[0m\u001b[0;34m\u001b[0m\u001b[0;34m\u001b[0m\u001b[0m\n\u001b[1;32m    619\u001b[0m                 \u001b[0my\u001b[0m \u001b[0;34m=\u001b[0m \u001b[0mcheck_array\u001b[0m\u001b[0;34m(\u001b[0m\u001b[0my\u001b[0m\u001b[0;34m,\u001b[0m \u001b[0minput_name\u001b[0m\u001b[0;34m=\u001b[0m\u001b[0;34m\"y\"\u001b[0m\u001b[0;34m,\u001b[0m \u001b[0;34m**\u001b[0m\u001b[0mcheck_y_params\u001b[0m\u001b[0;34m)\u001b[0m\u001b[0;34m\u001b[0m\u001b[0;34m\u001b[0m\u001b[0m\n\u001b[1;32m    620\u001b[0m             \u001b[0;32melse\u001b[0m\u001b[0;34m:\u001b[0m\u001b[0;34m\u001b[0m\u001b[0;34m\u001b[0m\u001b[0m\n\u001b[0;32m--> 621\u001b[0;31m                 \u001b[0mX\u001b[0m\u001b[0;34m,\u001b[0m \u001b[0my\u001b[0m \u001b[0;34m=\u001b[0m \u001b[0mcheck_X_y\u001b[0m\u001b[0;34m(\u001b[0m\u001b[0mX\u001b[0m\u001b[0;34m,\u001b[0m \u001b[0my\u001b[0m\u001b[0;34m,\u001b[0m \u001b[0;34m**\u001b[0m\u001b[0mcheck_params\u001b[0m\u001b[0;34m)\u001b[0m\u001b[0;34m\u001b[0m\u001b[0;34m\u001b[0m\u001b[0m\n\u001b[0m\u001b[1;32m    622\u001b[0m             \u001b[0mout\u001b[0m \u001b[0;34m=\u001b[0m \u001b[0mX\u001b[0m\u001b[0;34m,\u001b[0m \u001b[0my\u001b[0m\u001b[0;34m\u001b[0m\u001b[0;34m\u001b[0m\u001b[0m\n\u001b[1;32m    623\u001b[0m \u001b[0;34m\u001b[0m\u001b[0m\n\u001b[1;32m    624\u001b[0m         \u001b[0;32mif\u001b[0m \u001b[0;32mnot\u001b[0m \u001b[0mno_val_X\u001b[0m \u001b[0;32mand\u001b[0m \u001b[0mcheck_params\u001b[0m\u001b[0;34m.\u001b[0m\u001b[0mget\u001b[0m\u001b[0;34m(\u001b[0m\u001b[0;34m\"ensure_2d\"\u001b[0m\u001b[0;34m,\u001b[0m \u001b[0;32mTrue\u001b[0m\u001b[0;34m)\u001b[0m\u001b[0;34m:\u001b[0m\u001b[0;34m\u001b[0m\u001b[0;34m\u001b[0m\u001b[0m\n",
      "\u001b[0;32m~/.conda/envs/ML-conda-env/lib/python3.11/site-packages/sklearn/utils/validation.py\u001b[0m in \u001b[0;36m?\u001b[0;34m(X, y, accept_sparse, accept_large_sparse, dtype, order, copy, force_all_finite, ensure_2d, allow_nd, multi_output, ensure_min_samples, ensure_min_features, y_numeric, estimator)\u001b[0m\n\u001b[1;32m   1143\u001b[0m         raise ValueError(\n\u001b[1;32m   1144\u001b[0m             \u001b[0;34mf\"{estimator_name} requires y to be passed, but the target y is None\"\u001b[0m\u001b[0;34m\u001b[0m\u001b[0;34m\u001b[0m\u001b[0m\n\u001b[1;32m   1145\u001b[0m         )\n\u001b[1;32m   1146\u001b[0m \u001b[0;34m\u001b[0m\u001b[0m\n\u001b[0;32m-> 1147\u001b[0;31m     X = check_array(\n\u001b[0m\u001b[1;32m   1148\u001b[0m         \u001b[0mX\u001b[0m\u001b[0;34m,\u001b[0m\u001b[0;34m\u001b[0m\u001b[0;34m\u001b[0m\u001b[0m\n\u001b[1;32m   1149\u001b[0m         \u001b[0maccept_sparse\u001b[0m\u001b[0;34m=\u001b[0m\u001b[0maccept_sparse\u001b[0m\u001b[0;34m,\u001b[0m\u001b[0;34m\u001b[0m\u001b[0;34m\u001b[0m\u001b[0m\n\u001b[1;32m   1150\u001b[0m         \u001b[0maccept_large_sparse\u001b[0m\u001b[0;34m=\u001b[0m\u001b[0maccept_large_sparse\u001b[0m\u001b[0;34m,\u001b[0m\u001b[0;34m\u001b[0m\u001b[0;34m\u001b[0m\u001b[0m\n",
      "\u001b[0;32m~/.conda/envs/ML-conda-env/lib/python3.11/site-packages/sklearn/utils/validation.py\u001b[0m in \u001b[0;36m?\u001b[0;34m(array, accept_sparse, accept_large_sparse, dtype, order, copy, force_all_finite, ensure_2d, allow_nd, ensure_min_samples, ensure_min_features, estimator, input_name)\u001b[0m\n\u001b[1;32m    914\u001b[0m                         )\n\u001b[1;32m    915\u001b[0m                     \u001b[0marray\u001b[0m \u001b[0;34m=\u001b[0m \u001b[0mxp\u001b[0m\u001b[0;34m.\u001b[0m\u001b[0mastype\u001b[0m\u001b[0;34m(\u001b[0m\u001b[0marray\u001b[0m\u001b[0;34m,\u001b[0m \u001b[0mdtype\u001b[0m\u001b[0;34m,\u001b[0m \u001b[0mcopy\u001b[0m\u001b[0;34m=\u001b[0m\u001b[0;32mFalse\u001b[0m\u001b[0;34m)\u001b[0m\u001b[0;34m\u001b[0m\u001b[0;34m\u001b[0m\u001b[0m\n\u001b[1;32m    916\u001b[0m                 \u001b[0;32melse\u001b[0m\u001b[0;34m:\u001b[0m\u001b[0;34m\u001b[0m\u001b[0;34m\u001b[0m\u001b[0m\n\u001b[1;32m    917\u001b[0m                     \u001b[0marray\u001b[0m \u001b[0;34m=\u001b[0m \u001b[0m_asarray_with_order\u001b[0m\u001b[0;34m(\u001b[0m\u001b[0marray\u001b[0m\u001b[0;34m,\u001b[0m \u001b[0morder\u001b[0m\u001b[0;34m=\u001b[0m\u001b[0morder\u001b[0m\u001b[0;34m,\u001b[0m \u001b[0mdtype\u001b[0m\u001b[0;34m=\u001b[0m\u001b[0mdtype\u001b[0m\u001b[0;34m,\u001b[0m \u001b[0mxp\u001b[0m\u001b[0;34m=\u001b[0m\u001b[0mxp\u001b[0m\u001b[0;34m)\u001b[0m\u001b[0;34m\u001b[0m\u001b[0;34m\u001b[0m\u001b[0m\n\u001b[0;32m--> 918\u001b[0;31m             \u001b[0;32mexcept\u001b[0m \u001b[0mComplexWarning\u001b[0m \u001b[0;32mas\u001b[0m \u001b[0mcomplex_warning\u001b[0m\u001b[0;34m:\u001b[0m\u001b[0;34m\u001b[0m\u001b[0;34m\u001b[0m\u001b[0m\n\u001b[0m\u001b[1;32m    919\u001b[0m                 raise ValueError(\n\u001b[1;32m    920\u001b[0m                     \u001b[0;34m\"Complex data not supported\\n{}\\n\"\u001b[0m\u001b[0;34m.\u001b[0m\u001b[0mformat\u001b[0m\u001b[0;34m(\u001b[0m\u001b[0marray\u001b[0m\u001b[0;34m)\u001b[0m\u001b[0;34m\u001b[0m\u001b[0;34m\u001b[0m\u001b[0m\n\u001b[1;32m    921\u001b[0m                 ) from complex_warning\n",
      "\u001b[0;32m~/.conda/envs/ML-conda-env/lib/python3.11/site-packages/sklearn/utils/_array_api.py\u001b[0m in \u001b[0;36m?\u001b[0;34m(array, dtype, order, copy, xp)\u001b[0m\n\u001b[1;32m    376\u001b[0m         \u001b[0;31m# Use NumPy API to support order\u001b[0m\u001b[0;34m\u001b[0m\u001b[0;34m\u001b[0m\u001b[0m\n\u001b[1;32m    377\u001b[0m         \u001b[0;32mif\u001b[0m \u001b[0mcopy\u001b[0m \u001b[0;32mis\u001b[0m \u001b[0;32mTrue\u001b[0m\u001b[0;34m:\u001b[0m\u001b[0;34m\u001b[0m\u001b[0;34m\u001b[0m\u001b[0m\n\u001b[1;32m    378\u001b[0m             \u001b[0marray\u001b[0m \u001b[0;34m=\u001b[0m \u001b[0mnumpy\u001b[0m\u001b[0;34m.\u001b[0m\u001b[0marray\u001b[0m\u001b[0;34m(\u001b[0m\u001b[0marray\u001b[0m\u001b[0;34m,\u001b[0m \u001b[0morder\u001b[0m\u001b[0;34m=\u001b[0m\u001b[0morder\u001b[0m\u001b[0;34m,\u001b[0m \u001b[0mdtype\u001b[0m\u001b[0;34m=\u001b[0m\u001b[0mdtype\u001b[0m\u001b[0;34m)\u001b[0m\u001b[0;34m\u001b[0m\u001b[0;34m\u001b[0m\u001b[0m\n\u001b[1;32m    379\u001b[0m         \u001b[0;32melse\u001b[0m\u001b[0;34m:\u001b[0m\u001b[0;34m\u001b[0m\u001b[0;34m\u001b[0m\u001b[0m\n\u001b[0;32m--> 380\u001b[0;31m             \u001b[0marray\u001b[0m \u001b[0;34m=\u001b[0m \u001b[0mnumpy\u001b[0m\u001b[0;34m.\u001b[0m\u001b[0masarray\u001b[0m\u001b[0;34m(\u001b[0m\u001b[0marray\u001b[0m\u001b[0;34m,\u001b[0m \u001b[0morder\u001b[0m\u001b[0;34m=\u001b[0m\u001b[0morder\u001b[0m\u001b[0;34m,\u001b[0m \u001b[0mdtype\u001b[0m\u001b[0;34m=\u001b[0m\u001b[0mdtype\u001b[0m\u001b[0;34m)\u001b[0m\u001b[0;34m\u001b[0m\u001b[0;34m\u001b[0m\u001b[0m\n\u001b[0m\u001b[1;32m    381\u001b[0m \u001b[0;34m\u001b[0m\u001b[0m\n\u001b[1;32m    382\u001b[0m         \u001b[0;31m# At this point array is a NumPy ndarray. We convert it to an array\u001b[0m\u001b[0;34m\u001b[0m\u001b[0;34m\u001b[0m\u001b[0m\n\u001b[1;32m    383\u001b[0m         \u001b[0;31m# container that is consistent with the input's namespace.\u001b[0m\u001b[0;34m\u001b[0m\u001b[0;34m\u001b[0m\u001b[0m\n",
      "\u001b[0;32m/usr/lib/python3.11/site-packages/pandas/core/generic.py\u001b[0m in \u001b[0;36m?\u001b[0;34m(self, dtype)\u001b[0m\n\u001b[1;32m   2069\u001b[0m     \u001b[0;32mdef\u001b[0m \u001b[0m__array__\u001b[0m\u001b[0;34m(\u001b[0m\u001b[0mself\u001b[0m\u001b[0;34m,\u001b[0m \u001b[0mdtype\u001b[0m\u001b[0;34m:\u001b[0m \u001b[0mnpt\u001b[0m\u001b[0;34m.\u001b[0m\u001b[0mDTypeLike\u001b[0m \u001b[0;34m|\u001b[0m \u001b[0;32mNone\u001b[0m \u001b[0;34m=\u001b[0m \u001b[0;32mNone\u001b[0m\u001b[0;34m)\u001b[0m \u001b[0;34m->\u001b[0m \u001b[0mnp\u001b[0m\u001b[0;34m.\u001b[0m\u001b[0mndarray\u001b[0m\u001b[0;34m:\u001b[0m\u001b[0;34m\u001b[0m\u001b[0;34m\u001b[0m\u001b[0m\n\u001b[0;32m-> 2070\u001b[0;31m         \u001b[0;32mreturn\u001b[0m \u001b[0mnp\u001b[0m\u001b[0;34m.\u001b[0m\u001b[0masarray\u001b[0m\u001b[0;34m(\u001b[0m\u001b[0mself\u001b[0m\u001b[0;34m.\u001b[0m\u001b[0m_values\u001b[0m\u001b[0;34m,\u001b[0m \u001b[0mdtype\u001b[0m\u001b[0;34m=\u001b[0m\u001b[0mdtype\u001b[0m\u001b[0;34m)\u001b[0m\u001b[0;34m\u001b[0m\u001b[0;34m\u001b[0m\u001b[0m\n\u001b[0m",
      "\u001b[0;31mValueError\u001b[0m: could not convert string to float: 'basal'"
     ]
    }
   ],
   "source": [
    "from sklearn.ensemble import GradientBoostingClassifier  # For classification tasks\n",
    "from sklearn.metrics import balanced_accuracy_score, accuracy_score, confusion_matrix\n",
    "\n",
    "gboost = GradientBoostingClassifier(n_estimators=200, learning_rate=0.1, max_depth=3, random_state=42)\n",
    "gboost.fit(split.trainx, split.trainy)\n",
    "\n",
    "y_pred = gboost.predict(split.testx)\n",
    "\n",
    "accuracy = accuracy_score(split.testy, y_pred)\n",
    "print(f\"Accuracy: {accuracy:.2f}\")# Calculate the accuracy\n",
    "accuracy = accuracy_score(split.testy, y_pred)\n",
    "# confusion matrix\n",
    "print(confusion_matrix(split.testy, y_pred > .5))\n",
    "print(f\"Accuracy: {accuracy:.2f}\")\n",
    "print(\n",
    "    f\"Balanced Accuracy: {balanced_accuracy_score(split.testy, y_pred > .5)}\"\n",
    ")\n",
    "#150 estimators, depth = 1, LR=0.05: BA = 0.781\n",
    "#150 estimators, depth = 1, LR=0.03, BA = 0.776\n",
    "#150 estimators, depth = 1, LR=0.05, BA = 0.78?\n",
    "#200 estimators, depth = 1, LR=0.05, BA = 0.782\n",
    "#150 estimators, depth = 2, LR=0.05, BA = 0.779\n",
    "#120 estimators, depth = 3, LR=0.10, BA = 0.781\n",
    "#120 estimators, depth = 6, LR=0.10, BA = 0.709\n",
    "#200 estimators, depth = 3, LR=0.10, BA = 0.785"
   ]
  },
  {
   "cell_type": "code",
   "execution_count": 17,
   "id": "69862f5c-2149-4afd-9bed-aec5c239aa39",
   "metadata": {
    "tags": []
   },
   "outputs": [
    {
     "data": {
      "image/png": "[encoded data removed]",
      "text/plain": [
       "<Figure size 1300x500 with 1 Axes>"
      ]
     },
     "metadata": {},
     "output_type": "display_data"
    }
   ],
   "source": [
    "feature_importance = pd.DataFrame({'Feature':split.trainx.columns,'Gradient':gboost.feature_importances_})\n",
    "feature_importance = feature_importance.set_index('Feature').sort_values(by='Gradient', ascending = False)\n",
    "feature_importance = feature_importance/feature_importance.sum()\n",
    "feature_importance.plot.bar(figsize=(13,5))\n",
    "plt.show()"
   ]
  },
  {
   "cell_type": "markdown",
   "id": "ae2e3b6c-04ca-44ba-97a3-1fade208c62c",
   "metadata": {
    "tags": []
   },
   "source": [
    "# XGboost"
   ]
  },
  {
   "cell_type": "code",
   "execution_count": 4,
   "id": "b8c98c20-3791-40d1-a510-9071ab78ab90",
   "metadata": {
    "tags": []
   },
   "outputs": [
    {
     "name": "stderr",
     "output_type": "stream",
     "text": [
      "/home/williamn/Rice/Classes/Intro to Machine Learning/Competition/Code/Data_Processing.py:122: SettingWithCopyWarning: \n",
      "A value is trying to be set on a copy of a slice from a DataFrame.\n",
      "Try using .loc[row_indexer,col_indexer] = value instead\n",
      "\n",
      "See the caveats in the documentation: https://pandas.pydata.org/pandas-docs/stable/user_guide/indexing.html#returning-a-view-versus-a-copy\n",
      "  df[\"same_cluster\"] = df[\"same_clust\"].astype(\"category\")\n"
     ]
    }
   ],
   "source": [
    "# XGboost process and splitting\n",
    "\n",
    "# Inputs and processes data\n",
    "data = Input_Data()\n",
    "p_data = xg_FE(data)\n",
    "\n",
    "#Cutting out axons, unsure if this is a good idea or not!\n",
    "#p_data = p_data[p_data['compartment'] != 'axon']\n",
    "\n",
    "#processed_data.info()\n",
    "#Splits and resamples data\n",
    "#split = train_test_val(p_data, 0.2,0.1)\n",
    "split = train_test(p_data, 0.2)\n",
    "split.resample()\n",
    "#p_data.info()\n",
    "#sns.catplot(data=p_data, x='connected', y='compartment', kind='bar')"
   ]
  },
  {
   "cell_type": "code",
   "execution_count": 3,
   "id": "7dca718f-d93c-45fd-9aee-7f8235ae7795",
   "metadata": {
    "tags": []
   },
   "outputs": [],
   "source": [
    "#p_data.info()"
   ]
  },
  {
   "cell_type": "markdown",
   "id": "53f43ec6-0508-40ce-ae8d-b66a1bf5ef71",
   "metadata": {
    "jp-MarkdownHeadingCollapsed": true,
    "tags": []
   },
   "source": [
    "## Manual search"
   ]
  },
  {
   "cell_type": "code",
   "execution_count": 6,
   "id": "f9bf5028-bbd5-412a-86de-b7ebb74b5c43",
   "metadata": {
    "tags": []
   },
   "outputs": [
    {
     "name": "stdout",
     "output_type": "stream",
     "text": [
      "[[24832 12075]\n",
      " [   27   233]]\n",
      "Accuracy: 0.67\n",
      "Balanced Accuracy: 0.7844900696344868\n"
     ]
    }
   ],
   "source": [
    "#XGBoost\n",
    "\n",
    "# Try the subsampling, bootstrapping, Hessian\n",
    "# Import the path?\n",
    "# Try to make custom eval_metric?\n",
    "\n",
    "sys.path.append('/home/williamn/Software/Xgboost/xgboost/python-package/')\n",
    "import xgboost as xgb\n",
    "from xgboost import XGBClassifier\n",
    "from sklearn.metrics import balanced_accuracy_score, accuracy_score, confusion_matrix, mean_absolute_error\n",
    "from sklearn.model_selection import GridSearchCV\n",
    "\n",
    "# Train a model using the scikit-learn API\n",
    "\n",
    "#xgb_classifier = xgb.XGBClassifier(n_estimators=60, objective='binary:logistic', tree_method='hist', eta=0.1, max_depth=3, enable_categorical=True)\n",
    "#1000, hist, 0.005, 4\n",
    "xgb_classifier = xgb.XGBClassifier(n_estimators=1000,\n",
    "                                   objective='binary:logistic',\n",
    "                                   tree_method='hist',\n",
    "                                   eta=0.001,\n",
    "                                   max_depth=4,\n",
    "                                   enable_categorical=True,\n",
    "                                   verbosity=1,\n",
    "                                   eval_metric = balanced_accuracy_score,\n",
    "                                  )\n",
    "xgb_classifier.fit(split.trainx, split.trainy)\n",
    "\n",
    "y_pred = xgb_classifier.predict(split.testx)\n",
    "\n",
    "accuracy = accuracy_score(split.testy, y_pred)\n",
    "# confusion matrix\n",
    "print(confusion_matrix(split.testy, y_pred > .5))\n",
    "print(f\"Accuracy: {accuracy:.2f}\")\n",
    "print(\n",
    "    f\"Balanced Accuracy: {balanced_accuracy_score(split.testy, y_pred > .5)}\"\n",
    ")\n",
    "\n",
    "# Convert the model to a native API model\n",
    "model = xgb_classifier.get_booster()"
   ]
  },
  {
   "cell_type": "code",
   "execution_count": null,
   "id": "3833b6b7-9edf-4103-b526-e8a4257f8575",
   "metadata": {
    "tags": []
   },
   "outputs": [],
   "source": [
    "feature_importance = pd.DataFrame({'Feature':split.trainx.columns,'Gradient':xgb_classifier.feature_importances_})\n",
    "feature_importance = feature_importance.set_index('Feature').sort_values(by='Gradient', ascending = False)\n",
    "feature_importance = feature_importance/feature_importance.sum()\n",
    "feature_importance.plot.bar(figsize=(13,5))\n",
    "plt.show()"
   ]
  },
  {
   "cell_type": "markdown",
   "id": "c134f4f0-d079-48b7-bac7-6c7a6c417103",
   "metadata": {
    "jp-MarkdownHeadingCollapsed": true,
    "tags": []
   },
   "source": [
    "## Grid search"
   ]
  },
  {
   "cell_type": "code",
   "execution_count": 10,
   "id": "fe1a4210-89ec-42d9-b889-018ce69b9cc0",
   "metadata": {
    "tags": []
   },
   "outputs": [
    {
     "name": "stdout",
     "output_type": "stream",
     "text": [
      "{'n_estimators': [50, 700, 1350, 2000], 'max_depth': [1, 2, 3, 4], 'eta': [0.01, 0.04, 0.07, 0.1], 'grow_policy': ['depthwise', 'lossguide']}\n"
     ]
    },
    {
     "ename": "NameError",
     "evalue": "name 'RandomSearchCV' is not defined",
     "output_type": "error",
     "traceback": [
      "\u001b[0;31m---------------------------------------------------------------------------\u001b[0m",
      "\u001b[0;31mNameError\u001b[0m                                 Traceback (most recent call last)",
      "Cell \u001b[0;32mIn[10], line 24\u001b[0m\n\u001b[1;32m     18\u001b[0m \u001b[38;5;28mprint\u001b[39m(boost_grid)\n\u001b[1;32m     19\u001b[0m model \u001b[38;5;241m=\u001b[39m xgb\u001b[38;5;241m.\u001b[39mXGBClassifier(objective\u001b[38;5;241m=\u001b[39m\u001b[38;5;124m'\u001b[39m\u001b[38;5;124mbinary:logistic\u001b[39m\u001b[38;5;124m'\u001b[39m,\n\u001b[1;32m     20\u001b[0m                             tree_method\u001b[38;5;241m=\u001b[39m\u001b[38;5;124m'\u001b[39m\u001b[38;5;124mhist\u001b[39m\u001b[38;5;124m'\u001b[39m,\n\u001b[1;32m     21\u001b[0m                             eval_metric \u001b[38;5;241m=\u001b[39m balanced_accuracy_score,\n\u001b[1;32m     22\u001b[0m                             enable_categorical\u001b[38;5;241m=\u001b[39m\u001b[38;5;28;01mTrue\u001b[39;00m,\n\u001b[1;32m     23\u001b[0m )\n\u001b[0;32m---> 24\u001b[0m rf_Grid \u001b[38;5;241m=\u001b[39m \u001b[43mRandomSearchCV\u001b[49m(estimator \u001b[38;5;241m=\u001b[39m model, param_grid \u001b[38;5;241m=\u001b[39m boost_grid, cv \u001b[38;5;241m=\u001b[39m \u001b[38;5;241m2\u001b[39m, verbose \u001b[38;5;241m=\u001b[39m \u001b[38;5;241m2\u001b[39m, scoring\u001b[38;5;241m=\u001b[39m\u001b[38;5;124m\"\u001b[39m\u001b[38;5;124mbalanced_accuracy\u001b[39m\u001b[38;5;124m\"\u001b[39m)\n",
      "\u001b[0;31mNameError\u001b[0m: name 'RandomSearchCV' is not defined"
     ]
    }
   ],
   "source": [
    "# Grid search\n",
    "# Number of estimator\n",
    "n_estimators = [int(x) for x in np.linspace(start = 50, stop = 2000, num = 4)]\n",
    "\n",
    "# Max depth of the tree\n",
    "max_depth = [int(x) for x in np.linspace(start = 1, stop = 4, num = 4)]\n",
    "\n",
    "# Training speed\n",
    "eta = [float(x) for x in np.linspace(start = 0.01, stop = 0.1, num = 4)]\n",
    "\n",
    "# Growth Policy\n",
    "grow_policy = ['depthwise', 'lossguide']\n",
    "boost_grid = {'n_estimators' : n_estimators,\n",
    "              'max_depth'  : max_depth,\n",
    "              'eta' : eta,\n",
    "              'grow_policy' : grow_policy,\n",
    "              }\n",
    "print(boost_grid)\n",
    "model = xgb.XGBClassifier(objective='binary:logistic',\n",
    "                            tree_method='hist',\n",
    "                            eval_metric = balanced_accuracy_score,\n",
    "                            enable_categorical=True,\n",
    ")\n",
    "rf_Grid = RandomSearchCV(estimator = model, param_grid = boost_grid, cv = 2, verbose = 2, scoring=\"balanced_accuracy\")\n"
   ]
  },
  {
   "cell_type": "code",
   "execution_count": null,
   "id": "01386f5b-6dae-43a8-af12-476927abefad",
   "metadata": {
    "tags": []
   },
   "outputs": [],
   "source": [
    "rf_Grid.fit(split.trainx, split.trainy)"
   ]
  },
  {
   "cell_type": "code",
   "execution_count": 46,
   "id": "46c7605b-3b3f-49dc-b0d7-8586f9e13878",
   "metadata": {
    "tags": []
   },
   "outputs": [
    {
     "name": "stdout",
     "output_type": "stream",
     "text": [
      "Balanced Accuracy: 0.5320895494026493\n",
      "[[36541   355]\n",
      " [  251    20]]\n",
      "Accuracy: 0.65\n"
     ]
    },
    {
     "data": {
      "text/plain": [
       "{'eta': 0.1, 'grow_policy': 'depthwise', 'max_depth': 4, 'n_estimators': 2000}"
      ]
     },
     "execution_count": 46,
     "metadata": {},
     "output_type": "execute_result"
    }
   ],
   "source": [
    "y_pred = rf_Grid.predict(split.testx)\n",
    "\n",
    "print(\n",
    "    f\"Balanced Accuracy: {balanced_accuracy_score(split.testy, y_pred > .5)}\"\n",
    ")\n",
    "print(confusion_matrix(split.testy, y_pred > .5))\n",
    "print(f\"Accuracy: {accuracy:.2f}\")\n",
    "#73% non-axon accuracy w/o axon\n",
    "#75% non-axon accuracy w/ axon\n",
    "rf_Grid.best_params_"
   ]
  },
  {
   "cell_type": "code",
   "execution_count": 25,
   "id": "ace5d312-12da-4167-a817-5f30360b42bd",
   "metadata": {
    "tags": []
   },
   "outputs": [
    {
     "data": {
      "image/png": "[encoded data removed]",
      "text/plain": [
       "<Figure size 1300x500 with 1 Axes>"
      ]
     },
     "metadata": {},
     "output_type": "display_data"
    }
   ],
   "source": [
    "feature_importance = pd.DataFrame({'Feature':split.trainx.columns,'Gradient':xgb_classifier.feature_importances_})\n",
    "feature_importance = feature_importance.set_index('Feature').sort_values(by='Gradient', ascending = False)\n",
    "feature_importance = feature_importance/feature_importance.sum()\n",
    "feature_importance.plot.bar(figsize=(13,5))\n",
    "plt.show()"
   ]
  },
  {
   "cell_type": "markdown",
   "id": "9958c00d-53b6-4e12-8fbe-1cadf33cb689",
   "metadata": {},
   "source": [
    "## Custom Search"
   ]
  },
  {
   "cell_type": "code",
   "execution_count": 3,
   "id": "4f056be6-e7c1-41dd-9d1d-42c6bc59b711",
   "metadata": {
    "tags": []
   },
   "outputs": [
    {
     "name": "stderr",
     "output_type": "stream",
     "text": [
      "/home/williamn/Rice/Classes/Intro to Machine Learning/Competition/Code/Data_Processing.py:122: SettingWithCopyWarning: \n",
      "A value is trying to be set on a copy of a slice from a DataFrame.\n",
      "Try using .loc[row_indexer,col_indexer] = value instead\n",
      "\n",
      "See the caveats in the documentation: https://pandas.pydata.org/pandas-docs/stable/user_guide/indexing.html#returning-a-view-versus-a-copy\n",
      "  df[\"same_cluster\"] = df[\"same_clust\"].astype(\"category\")\n"
     ]
    }
   ],
   "source": [
    "data = Input_Data()\n",
    "p_data = xg_FE(data)"
   ]
  },
  {
   "cell_type": "code",
   "execution_count": 4,
   "id": "97d89c84-afe4-4ef9-9dc9-858a9596e944",
   "metadata": {
    "tags": []
   },
   "outputs": [],
   "source": [
    "split = train_test_val(p_data,0.2,0.2)\n",
    "split.resample()"
   ]
  },
  {
   "cell_type": "code",
   "execution_count": 5,
   "id": "b5eca312-9884-4bf9-a262-683c4c44b146",
   "metadata": {
    "tags": []
   },
   "outputs": [],
   "source": [
    "from sklearn.metrics import balanced_accuracy_score, accuracy_score, confusion_matrix, mean_absolute_error\n",
    "sys.path.append('/home/williamn/Software/Xgboost/xgboost/python-package/')\n",
    "import xgboost as xgb\n",
    "from xgboost import XGBClassifier\n",
    "from time import time"
   ]
  },
  {
   "cell_type": "code",
   "execution_count": 9,
   "id": "9912e991-17ff-423f-a624-89611270f542",
   "metadata": {
    "tags": []
   },
   "outputs": [],
   "source": [
    "from itertools import product\n",
    "\n",
    "n_estimators = [700,2500,3000,3500]\n",
    "#n_estimators = [100]\n",
    "objective = ['binary:logistic']\n",
    "tree_method = ['hist']\n",
    "eta = [0.04, 0.06, 0.07]\n",
    "#eta = [0.001,0.005, 0.01]\n",
    "#max_depth = [1,2,3,4]\n",
    "max_depth = [1,2]\n",
    "#max_depth = [1,2]\n",
    "enable_categorical=[True]\n",
    "eval_metric = [balanced_accuracy_score]\n",
    "verbosity = [0]\n",
    "min_child_weight = [1, 15, 200]\n",
    "max_bin = [100, 256, 400]\n",
    "subsample = [0.25, 0.5, 1]\n",
    "colsample_bytree = [0.5, 1]\n",
    "\n",
    "# Add more HPs?\n",
    "# https://xgboost.readthedocs.io/en/stable/python/python_api.html\n",
    "# Child weight\n",
    "# Subsample\n",
    "# Columnsample by tree\n",
    "# Max_bin?\n",
    "\n",
    "Hyperparam_Dict = {\n",
    "    \"n_estimators\" : n_estimators,\n",
    "    \"objective\" : objective,\n",
    "    \"tree_method\" : tree_method,\n",
    "    \"eta\" : eta,\n",
    "    \"max_depth\" : max_depth,\n",
    "    \"enable_categorical\" : enable_categorical,\n",
    "    \"eval_metric\" : eval_metric,\n",
    "    \"verbosity\" : verbosity,\n",
    "    \"min_child_weight\": min_child_weight,\n",
    "    \"max_bin\" : max_bin,\n",
    "    \"subsample\" : subsample,\n",
    "    \"colsample_bytree\" : colsample_bytree,\n",
    "}"
   ]
  },
  {
   "cell_type": "code",
   "execution_count": null,
   "id": "92f92fd1-51d2-4c50-bcba-bd31dc4500c6",
   "metadata": {
    "tags": []
   },
   "outputs": [
    {
     "name": "stdout",
     "output_type": "stream",
     "text": [
      "1296\n",
      "   1/1296, NE: 700, D: 1, Et:0.0400, MC:  1, MB: 100, S:0.2500, CS:0.50, Acc:0.6772, BAcc: 0.7997, TAc:0.6755, TBAc: 0.7741, T:3.89 ETA:5033.88\n",
      "   2/1296, NE: 700, D: 1, Et:0.0400, MC:  1, MB: 100, S:0.2500, CS:1.00, Acc:0.6787, BAcc: 0.7967, TAc:0.6767, TBAc: 0.7712, T:3.67 ETA:4742.58\n",
      "   3/1296, NE: 700, D: 1, Et:0.0400, MC:  1, MB: 100, S:0.5000, CS:0.50, Acc:0.6760, BAcc: 0.7991, TAc:0.6744, TBAc: 0.7735, T:3.18 ETA:4116.87\n",
      "   4/1296, NE: 700, D: 1, Et:0.0400, MC:  1, MB: 100, S:0.5000, CS:1.00, Acc:0.6765, BAcc: 0.7993, TAc:0.6743, TBAc: 0.7734, T:3.05 ETA:3935.37\n",
      "   5/1296, NE: 700, D: 1, Et:0.0400, MC:  1, MB: 100, S:1.0000, CS:0.50, Acc:0.6745, BAcc: 0.7983, TAc:0.6720, TBAc: 0.7723, T:3.30 ETA:4257.31\n",
      "   6/1296, NE: 700, D: 1, Et:0.0400, MC:  1, MB: 100, S:1.0000, CS:1.00, Acc:0.6745, BAcc: 0.7983, TAc:0.6722, TBAc: 0.7741, T:3.70 ETA:4771.48\n",
      "   7/1296, NE: 700, D: 1, Et:0.0400, MC:  1, MB: 256, S:0.2500, CS:0.50, Acc:0.6804, BAcc: 0.8013, TAc:0.6772, TBAc: 0.7749, T:3.57 ETA:4597.07\n",
      "   8/1296, NE: 700, D: 1, Et:0.0400, MC:  1, MB: 256, S:0.2500, CS:1.00, Acc:0.6810, BAcc: 0.7959, TAc:0.6782, TBAc: 0.7771, T:3.23 ETA:4161.72\n",
      "   9/1296, NE: 700, D: 1, Et:0.0400, MC:  1, MB: 256, S:0.5000, CS:0.50, Acc:0.6787, BAcc: 0.7986, TAc:0.6762, TBAc: 0.7779, T:4.17 ETA:5368.46\n",
      "  10/1296, NE: 700, D: 1, Et:0.0400, MC:  1, MB: 256, S:0.5000, CS:1.00, Acc:0.6790, BAcc: 0.7987, TAc:0.6761, TBAc: 0.7795, T:4.99 ETA:6412.22\n",
      "  11/1296, NE: 700, D: 1, Et:0.0400, MC:  1, MB: 256, S:1.0000, CS:0.50, Acc:0.6769, BAcc: 0.8014, TAc:0.6739, TBAc: 0.7750, T:3.72 ETA:4782.06\n",
      "  12/1296, NE: 700, D: 1, Et:0.0400, MC:  1, MB: 256, S:1.0000, CS:1.00, Acc:0.6767, BAcc: 0.8013, TAc:0.6738, TBAc: 0.7767, T:3.41 ETA:4374.17\n",
      "  13/1296, NE: 700, D: 1, Et:0.0400, MC:  1, MB: 400, S:0.2500, CS:0.50, Acc:0.6782, BAcc: 0.8002, TAc:0.6762, TBAc: 0.7709, T:3.42 ETA:4392.60\n",
      "  14/1296, NE: 700, D: 1, Et:0.0400, MC:  1, MB: 400, S:0.2500, CS:1.00, Acc:0.6794, BAcc: 0.7970, TAc:0.6768, TBAc: 0.7730, T:3.67 ETA:4705.67\n",
      "  15/1296, NE: 700, D: 1, Et:0.0400, MC:  1, MB: 400, S:0.5000, CS:0.50, Acc:0.6773, BAcc: 0.7979, TAc:0.6755, TBAc: 0.7723, T:3.51 ETA:4490.71\n",
      "  16/1296, NE: 700, D: 1, Et:0.0400, MC:  1, MB: 400, S:0.5000, CS:1.00, Acc:0.6776, BAcc: 0.8018, TAc:0.6755, TBAc: 0.7723, T:3.52 ETA:4505.13\n",
      "  17/1296, NE: 700, D: 1, Et:0.0400, MC:  1, MB: 400, S:1.0000, CS:0.50, Acc:0.6755, BAcc: 0.8007, TAc:0.6727, TBAc: 0.7692, T:3.50 ETA:4472.25\n",
      "  18/1296, NE: 700, D: 1, Et:0.0400, MC:  1, MB: 400, S:1.0000, CS:1.00, Acc:0.6750, BAcc: 0.8005, TAc:0.6726, TBAc: 0.7691, T:3.25 ETA:4155.67\n",
      "  19/1296, NE: 700, D: 1, Et:0.0400, MC: 15, MB: 100, S:0.2500, CS:0.50, Acc:0.6737, BAcc: 0.8017, TAc:0.6723, TBAc: 0.7759, T:3.05 ETA:3901.12\n",
      "  20/1296, NE: 700, D: 1, Et:0.0400, MC: 15, MB: 100, S:0.2500, CS:1.00, Acc:0.6746, BAcc: 0.8022, TAc:0.6729, TBAc: 0.7727, T:3.00 ETA:3825.44\n",
      "  21/1296, NE: 700, D: 1, Et:0.0400, MC: 15, MB: 100, S:0.5000, CS:0.50, Acc:0.6758, BAcc: 0.7990, TAc:0.6747, TBAc: 0.7702, T:3.03 ETA:3860.81\n",
      "  22/1296, NE: 700, D: 1, Et:0.0400, MC: 15, MB: 100, S:0.5000, CS:1.00, Acc:0.6763, BAcc: 0.7992, TAc:0.6746, TBAc: 0.7736, T:3.71 ETA:4721.29\n",
      "  23/1296, NE: 700, D: 1, Et:0.0400, MC: 15, MB: 100, S:1.0000, CS:0.50, Acc:0.6751, BAcc: 0.7987, TAc:0.6726, TBAc: 0.7709, T:3.15 ETA:4009.32\n",
      "  24/1296, NE: 700, D: 1, Et:0.0400, MC: 15, MB: 100, S:1.0000, CS:1.00, Acc:0.6745, BAcc: 0.7983, TAc:0.6724, TBAc: 0.7742, T:2.79 ETA:3549.40\n",
      "  25/1296, NE: 700, D: 1, Et:0.0400, MC: 15, MB: 256, S:0.2500, CS:0.50, Acc:0.6759, BAcc: 0.8028, TAc:0.6735, TBAc: 0.7800, T:3.20 ETA:4062.94\n",
      "  26/1296, NE: 700, D: 1, Et:0.0400, MC: 15, MB: 256, S:0.2500, CS:1.00, Acc:0.6765, BAcc: 0.7994, TAc:0.6745, TBAc: 0.7787, T:3.08 ETA:3909.75\n",
      "  27/1296, NE: 700, D: 1, Et:0.0400, MC: 15, MB: 256, S:0.5000, CS:0.50, Acc:0.6789, BAcc: 0.8006, TAc:0.6764, TBAc: 0.7780, T:3.21 ETA:4076.93\n",
      "  28/1296, NE: 700, D: 1, Et:0.0400, MC: 15, MB: 256, S:0.5000, CS:1.00, Acc:0.6791, BAcc: 0.8007, TAc:0.6759, TBAc: 0.7742, T:3.36 ETA:4254.74\n",
      "  29/1296, NE: 700, D: 1, Et:0.0400, MC: 15, MB: 256, S:1.0000, CS:0.50, Acc:0.6777, BAcc: 0.7999, TAc:0.6751, TBAc: 0.7756, T:3.21 ETA:4071.73\n",
      "  30/1296, NE: 700, D: 1, Et:0.0400, MC: 15, MB: 256, S:1.0000, CS:1.00, Acc:0.6775, BAcc: 0.7999, TAc:0.6743, TBAc: 0.7752, T:3.32 ETA:4197.14\n",
      "  31/1296, NE: 700, D: 1, Et:0.0400, MC: 15, MB: 400, S:0.2500, CS:0.50, Acc:0.6748, BAcc: 0.8004, TAc:0.6728, TBAc: 0.7727, T:3.44 ETA:4352.25\n",
      "  32/1296, NE: 700, D: 1, Et:0.0400, MC: 15, MB: 400, S:0.2500, CS:1.00, Acc:0.6760, BAcc: 0.7991, TAc:0.6732, TBAc: 0.7764, T:3.33 ETA:4214.61\n",
      "  33/1296, NE: 700, D: 1, Et:0.0400, MC: 15, MB: 400, S:0.5000, CS:0.50, Acc:0.6773, BAcc: 0.7997, TAc:0.6749, TBAc: 0.7720, T:4.38 ETA:5526.43\n",
      "  34/1296, NE: 700, D: 1, Et:0.0400, MC: 15, MB: 400, S:0.5000, CS:1.00, Acc:0.6772, BAcc: 0.8016, TAc:0.6753, TBAc: 0.7722, T:3.93 ETA:4963.58\n",
      "  35/1296, NE: 700, D: 1, Et:0.0400, MC: 15, MB: 400, S:1.0000, CS:0.50, Acc:0.6763, BAcc: 0.8030, TAc:0.6741, TBAc: 0.7699, T:3.37 ETA:4253.13\n",
      "  36/1296, NE: 700, D: 1, Et:0.0400, MC: 15, MB: 400, S:1.0000, CS:1.00, Acc:0.6762, BAcc: 0.8011, TAc:0.6739, TBAc: 0.7715, T:3.27 ETA:4124.46\n",
      "  37/1296, NE: 700, D: 1, Et:0.0400, MC:200, MB: 100, S:0.2500, CS:0.50, Acc:0.6775, BAcc: 0.8017, TAc:0.6750, TBAc: 0.7790, T:2.88 ETA:3630.08\n",
      "  38/1296, NE: 700, D: 1, Et:0.0400, MC:200, MB: 100, S:0.2500, CS:1.00, Acc:0.6783, BAcc: 0.8021, TAc:0.6755, TBAc: 0.7792, T:2.95 ETA:3713.97\n",
      "  39/1296, NE: 700, D: 1, Et:0.0400, MC:200, MB: 100, S:0.5000, CS:0.50, Acc:0.6730, BAcc: 0.7995, TAc:0.6713, TBAc: 0.7754, T:3.20 ETA:4019.69\n",
      "  40/1296, NE: 700, D: 1, Et:0.0400, MC:200, MB: 100, S:0.5000, CS:1.00, Acc:0.6725, BAcc: 0.8011, TAc:0.6703, TBAc: 0.7766, T:3.28 ETA:4120.02\n",
      "  41/1296, NE: 700, D: 1, Et:0.0400, MC:200, MB: 100, S:1.0000, CS:0.50, Acc:0.6709, BAcc: 0.8022, TAc:0.6688, TBAc: 0.7776, T:2.81 ETA:3523.69\n",
      "  42/1296, NE: 700, D: 1, Et:0.0400, MC:200, MB: 100, S:1.0000, CS:1.00, Acc:0.6703, BAcc: 0.8019, TAc:0.6684, TBAc: 0.7774, T:2.88 ETA:3607.82\n",
      "  43/1296, NE: 700, D: 1, Et:0.0400, MC:200, MB: 256, S:0.2500, CS:0.50, Acc:0.6790, BAcc: 0.8006, TAc:0.6754, TBAc: 0.7740, T:3.71 ETA:4645.40\n",
      "  44/1296, NE: 700, D: 1, Et:0.0400, MC:200, MB: 256, S:0.2500, CS:1.00, Acc:0.6799, BAcc: 0.8011, TAc:0.6760, TBAc: 0.7760, T:3.26 ETA:4084.77\n",
      "  45/1296, NE: 700, D: 1, Et:0.0400, MC:200, MB: 256, S:0.5000, CS:0.50, Acc:0.6752, BAcc: 0.8006, TAc:0.6725, TBAc: 0.7795, T:3.46 ETA:4323.44\n",
      "  46/1296, NE: 700, D: 1, Et:0.0400, MC:200, MB: 256, S:0.5000, CS:1.00, Acc:0.6754, BAcc: 0.8026, TAc:0.6725, TBAc: 0.7812, T:3.65 ETA:4566.97\n",
      "  47/1296, NE: 700, D: 1, Et:0.0400, MC:200, MB: 256, S:1.0000, CS:0.50, Acc:0.6733, BAcc: 0.8034, TAc:0.6703, TBAc: 0.7818, T:3.05 ETA:3811.89\n",
      "  48/1296, NE: 700, D: 1, Et:0.0400, MC:200, MB: 256, S:1.0000, CS:1.00, Acc:0.6730, BAcc: 0.8032, TAc:0.6701, TBAc: 0.7800, T:3.13 ETA:3909.16\n",
      "  49/1296, NE: 700, D: 1, Et:0.0400, MC:200, MB: 400, S:0.2500, CS:0.50, Acc:0.6795, BAcc: 0.8008, TAc:0.6761, TBAc: 0.7761, T:3.38 ETA:4213.39\n",
      "  50/1296, NE: 700, D: 1, Et:0.0400, MC:200, MB: 400, S:0.2500, CS:1.00, Acc:0.6787, BAcc: 0.8023, TAc:0.6759, TBAc: 0.7760, T:4.15 ETA:5174.71\n",
      "  51/1296, NE: 700, D: 1, Et:0.0400, MC:200, MB: 400, S:0.5000, CS:0.50, Acc:0.6741, BAcc: 0.8038, TAc:0.6719, TBAc: 0.7774, T:3.38 ETA:4208.00\n",
      "  52/1296, NE: 700, D: 1, Et:0.0400, MC:200, MB: 400, S:0.5000, CS:1.00, Acc:0.6748, BAcc: 0.8022, TAc:0.6722, TBAc: 0.7793, T:3.38 ETA:4204.06\n",
      "  53/1296, NE: 700, D: 1, Et:0.0400, MC:200, MB: 400, S:1.0000, CS:0.50, Acc:0.6716, BAcc: 0.8025, TAc:0.6691, TBAc: 0.7778, T:3.10 ETA:3853.75\n",
      "  54/1296, NE: 700, D: 1, Et:0.0400, MC:200, MB: 400, S:1.0000, CS:1.00, Acc:0.6715, BAcc: 0.8025, TAc:0.6690, TBAc: 0.7777, T:3.42 ETA:4248.58\n",
      "  55/1296, NE: 700, D: 2, Et:0.0400, MC:  1, MB: 100, S:0.2500, CS:0.50, Acc:0.7358, BAcc: 0.8065, TAc:0.7341, TBAc: 0.7689, T:3.73 ETA:4630.62\n",
      "  56/1296, NE: 700, D: 2, Et:0.0400, MC:  1, MB: 100, S:0.2500, CS:1.00, Acc:0.7394, BAcc: 0.8084, TAc:0.7376, TBAc: 0.7706, T:4.41 ETA:5473.28\n",
      "  57/1296, NE: 700, D: 2, Et:0.0400, MC:  1, MB: 100, S:0.5000, CS:0.50, Acc:0.7321, BAcc: 0.8085, TAc:0.7304, TBAc: 0.7670, T:3.61 ETA:4472.11\n",
      "  58/1296, NE: 700, D: 2, Et:0.0400, MC:  1, MB: 100, S:0.5000, CS:1.00, Acc:0.7356, BAcc: 0.8065, TAc:0.7347, TBAc: 0.7674, T:4.08 ETA:5046.29\n",
      "  59/1296, NE: 700, D: 2, Et:0.0400, MC:  1, MB: 100, S:1.0000, CS:0.50, Acc:0.7287, BAcc: 0.8087, TAc:0.7270, TBAc: 0.7688, T:3.52 ETA:4353.46\n",
      "  60/1296, NE: 700, D: 2, Et:0.0400, MC:  1, MB: 100, S:1.0000, CS:1.00, Acc:0.7302, BAcc: 0.8037, TAc:0.7301, TBAc: 0.7669, T:3.53 ETA:4363.38\n",
      "  61/1296, NE: 700, D: 2, Et:0.0400, MC:  1, MB: 256, S:0.2500, CS:0.50, Acc:0.7395, BAcc: 0.8103, TAc:0.7360, TBAc: 0.7629, T:3.85 ETA:4752.15\n",
      "  62/1296, NE: 700, D: 2, Et:0.0400, MC:  1, MB: 256, S:0.2500, CS:1.00, Acc:0.7420, BAcc: 0.8115, TAc:0.7396, TBAc: 0.7630, T:4.18 ETA:5154.05\n",
      "  63/1296, NE: 700, D: 2, Et:0.0400, MC:  1, MB: 256, S:0.5000, CS:0.50, Acc:0.7356, BAcc: 0.8027, TAc:0.7330, TBAc: 0.7631, T:3.80 ETA:4683.10\n",
      "  64/1296, NE: 700, D: 2, Et:0.0400, MC:  1, MB: 256, S:0.5000, CS:1.00, Acc:0.7372, BAcc: 0.8072, TAc:0.7345, TBAc: 0.7656, T:3.91 ETA:4812.69\n",
      "  65/1296, NE: 700, D: 2, Et:0.0400, MC:  1, MB: 256, S:1.0000, CS:0.50, Acc:0.7313, BAcc: 0.8062, TAc:0.7284, TBAc: 0.7660, T:3.67 ETA:4521.36\n",
      "  66/1296, NE: 700, D: 2, Et:0.0400, MC:  1, MB: 256, S:1.0000, CS:1.00, Acc:0.7331, BAcc: 0.8090, TAc:0.7305, TBAc: 0.7601, T:3.69 ETA:4542.21\n",
      "  67/1296, NE: 700, D: 2, Et:0.0400, MC:  1, MB: 400, S:0.2500, CS:0.50, Acc:0.7398, BAcc: 0.8123, TAc:0.7371, TBAc: 0.7600, T:4.55 ETA:5588.73\n",
      "  68/1296, NE: 700, D: 2, Et:0.0400, MC:  1, MB: 400, S:0.2500, CS:1.00, Acc:0.7417, BAcc: 0.8020, TAc:0.7396, TBAc: 0.7508, T:4.19 ETA:5139.93\n",
      "  69/1296, NE: 700, D: 2, Et:0.0400, MC:  1, MB: 400, S:0.5000, CS:0.50, Acc:0.7353, BAcc: 0.8006, TAc:0.7338, TBAc: 0.7583, T:4.49 ETA:5507.53\n",
      "  70/1296, NE: 700, D: 2, Et:0.0400, MC:  1, MB: 400, S:0.5000, CS:1.00, Acc:0.7376, BAcc: 0.8037, TAc:0.7362, TBAc: 0.7613, T:4.70 ETA:5768.29\n",
      "  71/1296, NE: 700, D: 2, Et:0.0400, MC:  1, MB: 400, S:1.0000, CS:0.50, Acc:0.7306, BAcc: 0.8002, TAc:0.7288, TBAc: 0.7593, T:4.69 ETA:5744.00\n",
      "  72/1296, NE: 700, D: 2, Et:0.0400, MC:  1, MB: 400, S:1.0000, CS:1.00, Acc:0.7323, BAcc: 0.7935, TAc:0.7309, TBAc: 0.7568, T:4.37 ETA:5344.23\n",
      "  73/1296, NE: 700, D: 2, Et:0.0400, MC: 15, MB: 100, S:0.2500, CS:0.50, Acc:0.7349, BAcc: 0.8061, TAc:0.7330, TBAc: 0.7735, T:3.48 ETA:4254.23\n",
      "  74/1296, NE: 700, D: 2, Et:0.0400, MC: 15, MB: 100, S:0.2500, CS:1.00, Acc:0.7386, BAcc: 0.8061, TAc:0.7372, TBAc: 0.7774, T:3.58 ETA:4376.59\n",
      "  75/1296, NE: 700, D: 2, Et:0.0400, MC: 15, MB: 100, S:0.5000, CS:0.50, Acc:0.7324, BAcc: 0.8067, TAc:0.7319, TBAc: 0.7712, T:3.59 ETA:4383.22\n",
      "  76/1296, NE: 700, D: 2, Et:0.0400, MC: 15, MB: 100, S:0.5000, CS:1.00, Acc:0.7364, BAcc: 0.8031, TAc:0.7355, TBAc: 0.7644, T:3.50 ETA:4270.14\n",
      "  77/1296, NE: 700, D: 2, Et:0.0400, MC: 15, MB: 100, S:1.0000, CS:0.50, Acc:0.7292, BAcc: 0.8089, TAc:0.7283, TBAc: 0.7677, T:3.33 ETA:4059.01\n",
      "  78/1296, NE: 700, D: 2, Et:0.0400, MC: 15, MB: 100, S:1.0000, CS:1.00, Acc:0.7335, BAcc: 0.8035, TAc:0.7319, TBAc: 0.7660, T:3.68 ETA:4485.25\n",
      "  79/1296, NE: 700, D: 2, Et:0.0400, MC: 15, MB: 256, S:0.2500, CS:0.50, Acc:0.7375, BAcc: 0.8112, TAc:0.7340, TBAc: 0.7740, T:3.80 ETA:4620.47\n",
      "  80/1296, NE: 700, D: 2, Et:0.0400, MC: 15, MB: 256, S:0.2500, CS:1.00, Acc:0.7416, BAcc: 0.8114, TAc:0.7398, TBAc: 0.7769, T:3.70 ETA:4502.39\n",
      "  81/1296, NE: 700, D: 2, Et:0.0400, MC: 15, MB: 256, S:0.5000, CS:0.50, Acc:0.7363, BAcc: 0.8087, TAc:0.7332, TBAc: 0.7684, T:3.73 ETA:4536.97\n",
      "  82/1296, NE: 700, D: 2, Et:0.0400, MC: 15, MB: 256, S:0.5000, CS:1.00, Acc:0.7408, BAcc: 0.8072, TAc:0.7374, TBAc: 0.7653, T:3.83 ETA:4652.85\n",
      "  83/1296, NE: 700, D: 2, Et:0.0400, MC: 15, MB: 256, S:1.0000, CS:0.50, Acc:0.7328, BAcc: 0.8070, TAc:0.7287, TBAc: 0.7662, T:3.70 ETA:4484.17\n",
      "  84/1296, NE: 700, D: 2, Et:0.0400, MC: 15, MB: 256, S:1.0000, CS:1.00, Acc:0.7338, BAcc: 0.8055, TAc:0.7315, TBAc: 0.7624, T:3.73 ETA:4524.68\n",
      "  85/1296, NE: 700, D: 2, Et:0.0400, MC: 15, MB: 400, S:0.2500, CS:0.50, Acc:0.7382, BAcc: 0.8134, TAc:0.7372, TBAc: 0.7722, T:3.98 ETA:4820.65\n",
      "  86/1296, NE: 700, D: 2, Et:0.0400, MC: 15, MB: 400, S:0.2500, CS:1.00, Acc:0.7405, BAcc: 0.8070, TAc:0.7398, TBAc: 0.7665, T:4.10 ETA:4957.87\n",
      "  87/1296, NE: 700, D: 2, Et:0.0400, MC: 15, MB: 400, S:0.5000, CS:0.50, Acc:0.7352, BAcc: 0.8063, TAc:0.7337, TBAc: 0.7583, T:4.20 ETA:5080.15\n",
      "  88/1296, NE: 700, D: 2, Et:0.0400, MC: 15, MB: 400, S:0.5000, CS:1.00, Acc:0.7391, BAcc: 0.8025, TAc:0.7382, TBAc: 0.7588, T:4.58 ETA:5529.86\n",
      "  89/1296, NE: 700, D: 2, Et:0.0400, MC: 15, MB: 400, S:1.0000, CS:0.50, Acc:0.7321, BAcc: 0.7972, TAc:0.7292, TBAc: 0.7577, T:3.99 ETA:4821.88\n",
      "  90/1296, NE: 700, D: 2, Et:0.0400, MC: 15, MB: 400, S:1.0000, CS:1.00, Acc:0.7352, BAcc: 0.7987, TAc:0.7340, TBAc: 0.7550, T:4.15 ETA:5009.16\n",
      "  91/1296, NE: 700, D: 2, Et:0.0400, MC:200, MB: 100, S:0.2500, CS:0.50, Acc:0.7366, BAcc: 0.8183, TAc:0.7350, TBAc: 0.7780, T:3.44 ETA:4150.46\n",
      "  92/1296, NE: 700, D: 2, Et:0.0400, MC:200, MB: 100, S:0.2500, CS:1.00, Acc:0.7396, BAcc: 0.8179, TAc:0.7373, TBAc: 0.7826, T:3.57 ETA:4302.57\n",
      "  93/1296, NE: 700, D: 2, Et:0.0400, MC:200, MB: 100, S:0.5000, CS:0.50, Acc:0.7326, BAcc: 0.8201, TAc:0.7306, TBAc: 0.7862, T:3.48 ETA:4181.47\n",
      "  94/1296, NE: 700, D: 2, Et:0.0400, MC:200, MB: 100, S:0.5000, CS:1.00, Acc:0.7372, BAcc: 0.8186, TAc:0.7348, TBAc: 0.7814, T:3.52 ETA:4236.21\n",
      "  95/1296, NE: 700, D: 2, Et:0.0400, MC:200, MB: 100, S:1.0000, CS:0.50, Acc:0.7263, BAcc: 0.8131, TAc:0.7259, TBAc: 0.7804, T:3.33 ETA:4004.28\n",
      "  96/1296, NE: 700, D: 2, Et:0.0400, MC:200, MB: 100, S:1.0000, CS:1.00, Acc:0.7297, BAcc: 0.8129, TAc:0.7283, TBAc: 0.7781, T:3.25 ETA:3895.51\n",
      "  97/1296, NE: 700, D: 2, Et:0.0400, MC:200, MB: 256, S:0.2500, CS:0.50, Acc:0.7386, BAcc: 0.8193, TAc:0.7349, TBAc: 0.7727, T:3.69 ETA:4419.58\n",
      "  98/1296, NE: 700, D: 2, Et:0.0400, MC:200, MB: 256, S:0.2500, CS:1.00, Acc:0.7411, BAcc: 0.8130, TAc:0.7373, TBAc: 0.7792, T:4.11 ETA:4921.96\n",
      "  99/1296, NE: 700, D: 2, Et:0.0400, MC:200, MB: 256, S:0.5000, CS:0.50, Acc:0.7354, BAcc: 0.8196, TAc:0.7329, TBAc: 0.7769, T:3.82 ETA:4566.59\n",
      " 100/1296, NE: 700, D: 2, Et:0.0400, MC:200, MB: 256, S:0.5000, CS:1.00, Acc:0.7377, BAcc: 0.8151, TAc:0.7347, TBAc: 0.7831, T:3.76 ETA:4492.81\n",
      " 101/1296, NE: 700, D: 2, Et:0.0400, MC:200, MB: 256, S:1.0000, CS:0.50, Acc:0.7293, BAcc: 0.8127, TAc:0.7268, TBAc: 0.7877, T:3.65 ETA:4360.60\n",
      " 102/1296, NE: 700, D: 2, Et:0.0400, MC:200, MB: 256, S:1.0000, CS:1.00, Acc:0.7311, BAcc: 0.8136, TAc:0.7293, TBAc: 0.7821, T:3.58 ETA:4273.02\n",
      " 103/1296, NE: 700, D: 2, Et:0.0400, MC:200, MB: 400, S:0.2500, CS:0.50, Acc:0.7401, BAcc: 0.8182, TAc:0.7373, TBAc: 0.7757, T:4.25 ETA:5066.54\n",
      " 104/1296, NE: 700, D: 2, Et:0.0400, MC:200, MB: 400, S:0.2500, CS:1.00, Acc:0.7422, BAcc: 0.8135, TAc:0.7394, TBAc: 0.7750, T:4.24 ETA:5050.60\n",
      " 105/1296, NE: 700, D: 2, Et:0.0400, MC:200, MB: 400, S:0.5000, CS:0.50, Acc:0.7345, BAcc: 0.8191, TAc:0.7315, TBAc: 0.7780, T:4.10 ETA:4878.60\n",
      " 106/1296, NE: 700, D: 2, Et:0.0400, MC:200, MB: 400, S:0.5000, CS:1.00, Acc:0.7373, BAcc: 0.8073, TAc:0.7343, TBAc: 0.7742, T:4.32 ETA:5138.87\n",
      " 107/1296, NE: 700, D: 2, Et:0.0400, MC:200, MB: 400, S:1.0000, CS:0.50, Acc:0.7284, BAcc: 0.8160, TAc:0.7263, TBAc: 0.7788, T:3.88 ETA:4611.95\n",
      " 108/1296, NE: 700, D: 2, Et:0.0400, MC:200, MB: 400, S:1.0000, CS:1.00, Acc:0.7313, BAcc: 0.8175, TAc:0.7297, TBAc: 0.7753, T:3.91 ETA:4640.70\n",
      " 109/1296, NE: 700, D: 1, Et:0.0600, MC:  1, MB: 100, S:0.2500, CS:0.50, Acc:0.6895, BAcc: 0.8040, TAc:0.6878, TBAc: 0.7698, T:2.90 ETA:3437.32\n",
      " 110/1296, NE: 700, D: 1, Et:0.0600, MC:  1, MB: 100, S:0.2500, CS:1.00, Acc:0.6897, BAcc: 0.8041, TAc:0.6879, TBAc: 0.7734, T:2.86 ETA:3395.67\n",
      " 111/1296, NE: 700, D: 1, Et:0.0600, MC:  1, MB: 100, S:0.5000, CS:0.50, Acc:0.6858, BAcc: 0.8040, TAc:0.6843, TBAc: 0.7715, T:2.88 ETA:3416.08\n",
      " 112/1296, NE: 700, D: 1, Et:0.0600, MC:  1, MB: 100, S:0.5000, CS:1.00, Acc:0.6863, BAcc: 0.8005, TAc:0.6842, TBAc: 0.7698, T:2.90 ETA:3435.00\n",
      " 113/1296, NE: 700, D: 1, Et:0.0600, MC:  1, MB: 100, S:1.0000, CS:0.50, Acc:0.6835, BAcc: 0.8029, TAc:0.6817, TBAc: 0.7685, T:2.66 ETA:3148.64\n",
      " 114/1296, NE: 700, D: 1, Et:0.0600, MC:  1, MB: 100, S:1.0000, CS:1.00, Acc:0.6836, BAcc: 0.8010, TAc:0.6818, TBAc: 0.7685, T:2.74 ETA:3242.31\n",
      " 115/1296, NE: 700, D: 1, Et:0.0600, MC:  1, MB: 256, S:0.2500, CS:0.50, Acc:0.6916, BAcc: 0.8032, TAc:0.6891, TBAc: 0.7757, T:3.07 ETA:3621.54\n",
      " 116/1296, NE: 700, D: 1, Et:0.0600, MC:  1, MB: 256, S:0.2500, CS:1.00, Acc:0.6926, BAcc: 0.8018, TAc:0.6891, TBAc: 0.7722, T:3.12 ETA:3678.21\n",
      " 117/1296, NE: 700, D: 1, Et:0.0600, MC:  1, MB: 256, S:0.5000, CS:0.50, Acc:0.6891, BAcc: 0.8057, TAc:0.6865, TBAc: 0.7744, T:3.09 ETA:3647.86\n",
      " 118/1296, NE: 700, D: 1, Et:0.0600, MC:  1, MB: 256, S:0.5000, CS:1.00, Acc:0.6896, BAcc: 0.8003, TAc:0.6867, TBAc: 0.7710, T:3.21 ETA:3781.02\n",
      " 119/1296, NE: 700, D: 1, Et:0.0600, MC:  1, MB: 256, S:1.0000, CS:0.50, Acc:0.6867, BAcc: 0.8007, TAc:0.6836, TBAc: 0.7747, T:2.88 ETA:3389.15\n",
      " 120/1296, NE: 700, D: 1, Et:0.0600, MC:  1, MB: 256, S:1.0000, CS:1.00, Acc:0.6863, BAcc: 0.8005, TAc:0.6833, TBAc: 0.7728, T:2.97 ETA:3497.67\n",
      " 121/1296, NE: 700, D: 1, Et:0.0600, MC:  1, MB: 400, S:0.2500, CS:0.50, Acc:0.6905, BAcc: 0.8007, TAc:0.6877, TBAc: 0.7715, T:3.18 ETA:3733.57\n",
      " 122/1296, NE: 700, D: 1, Et:0.0600, MC:  1, MB: 400, S:0.2500, CS:1.00, Acc:0.6910, BAcc: 0.8010, TAc:0.6893, TBAc: 0.7723, T:3.59 ETA:4215.41\n",
      " 123/1296, NE: 700, D: 1, Et:0.0600, MC:  1, MB: 400, S:0.5000, CS:0.50, Acc:0.6880, BAcc: 0.7976, TAc:0.6861, TBAc: 0.7707, T:3.37 ETA:3949.89\n",
      " 124/1296, NE: 700, D: 1, Et:0.0600, MC:  1, MB: 400, S:0.5000, CS:1.00, Acc:0.6879, BAcc: 0.7994, TAc:0.6856, TBAc: 0.7757, T:3.42 ETA:4008.37\n",
      " 125/1296, NE: 700, D: 1, Et:0.0600, MC:  1, MB: 400, S:1.0000, CS:0.50, Acc:0.6853, BAcc: 0.7981, TAc:0.6830, TBAc: 0.7744, T:3.26 ETA:3812.24\n",
      " 126/1296, NE: 700, D: 1, Et:0.0600, MC:  1, MB: 400, S:1.0000, CS:1.00, Acc:0.6849, BAcc: 0.7998, TAc:0.6827, TBAc: 0.7742, T:3.16 ETA:3692.71\n",
      " 127/1296, NE: 700, D: 1, Et:0.0600, MC: 15, MB: 100, S:0.2500, CS:0.50, Acc:0.6864, BAcc: 0.8081, TAc:0.6850, TBAc: 0.7806, T:2.85 ETA:3335.12\n",
      " 128/1296, NE: 700, D: 1, Et:0.0600, MC: 15, MB: 100, S:0.2500, CS:1.00, Acc:0.6864, BAcc: 0.8081, TAc:0.6851, TBAc: 0.7806, T:3.11 ETA:3635.08\n",
      " 129/1296, NE: 700, D: 1, Et:0.0600, MC: 15, MB: 100, S:0.5000, CS:0.50, Acc:0.6865, BAcc: 0.8025, TAc:0.6845, TBAc: 0.7699, T:2.93 ETA:3415.13\n",
      " 130/1296, NE: 700, D: 1, Et:0.0600, MC: 15, MB: 100, S:0.5000, CS:1.00, Acc:0.6873, BAcc: 0.8010, TAc:0.6852, TBAc: 0.7720, T:2.97 ETA:3466.85\n",
      " 131/1296, NE: 700, D: 1, Et:0.0600, MC: 15, MB: 100, S:1.0000, CS:0.50, Acc:0.6851, BAcc: 0.8018, TAc:0.6832, TBAc: 0.7675, T:2.83 ETA:3294.79\n",
      " 132/1296, NE: 700, D: 1, Et:0.0600, MC: 15, MB: 100, S:1.0000, CS:1.00, Acc:0.6846, BAcc: 0.8016, TAc:0.6824, TBAc: 0.7671, T:2.68 ETA:3119.78\n",
      " 133/1296, NE: 700, D: 1, Et:0.0600, MC: 15, MB: 256, S:0.2500, CS:0.50, Acc:0.6885, BAcc: 0.8054, TAc:0.6863, TBAc: 0.7812, T:3.05 ETA:3546.89\n",
      " 134/1296, NE: 700, D: 1, Et:0.0600, MC: 15, MB: 256, S:0.2500, CS:1.00, Acc:0.6889, BAcc: 0.8056, TAc:0.6861, TBAc: 0.7794, T:3.07 ETA:3564.60\n",
      " 135/1296, NE: 700, D: 1, Et:0.0600, MC: 15, MB: 256, S:0.5000, CS:0.50, Acc:0.6897, BAcc: 0.8041, TAc:0.6867, TBAc: 0.7710, T:3.27 ETA:3793.99\n",
      " 136/1296, NE: 700, D: 1, Et:0.0600, MC: 15, MB: 256, S:0.5000, CS:1.00, Acc:0.6893, BAcc: 0.8039, TAc:0.6865, TBAc: 0.7709, T:3.14 ETA:3639.81\n",
      " 137/1296, NE: 700, D: 1, Et:0.0600, MC: 15, MB: 256, S:1.0000, CS:0.50, Acc:0.6874, BAcc: 0.8010, TAc:0.6844, TBAc: 0.7733, T:2.89 ETA:3352.72\n",
      " 138/1296, NE: 700, D: 1, Et:0.0600, MC: 15, MB: 256, S:1.0000, CS:1.00, Acc:0.6873, BAcc: 0.8010, TAc:0.6840, TBAc: 0.7714, T:2.99 ETA:3460.09\n",
      " 139/1296, NE: 700, D: 1, Et:0.0600, MC: 15, MB: 400, S:0.2500, CS:0.50, Acc:0.6875, BAcc: 0.8030, TAc:0.6862, TBAc: 0.7777, T:3.16 ETA:3660.78\n",
      " 140/1296, NE: 700, D: 1, Et:0.0600, MC: 15, MB: 400, S:0.2500, CS:1.00, Acc:0.6878, BAcc: 0.8050, TAc:0.6865, TBAc: 0.7796, T:3.21 ETA:3705.59\n",
      " 141/1296, NE: 700, D: 1, Et:0.0600, MC: 15, MB: 400, S:0.5000, CS:0.50, Acc:0.6883, BAcc: 0.8015, TAc:0.6865, TBAc: 0.7692, T:3.37 ETA:3889.66\n",
      " 142/1296, NE: 700, D: 1, Et:0.0600, MC: 15, MB: 400, S:0.5000, CS:1.00, Acc:0.6887, BAcc: 0.8017, TAc:0.6868, TBAc: 0.7745, T:3.25 ETA:3745.31\n",
      " 143/1296, NE: 700, D: 1, Et:0.0600, MC: 15, MB: 400, S:1.0000, CS:0.50, Acc:0.6862, BAcc: 0.7986, TAc:0.6841, TBAc: 0.7715, T:3.09 ETA:3562.97\n",
      " 144/1296, NE: 700, D: 1, Et:0.0600, MC: 15, MB: 400, S:1.0000, CS:1.00, Acc:0.6859, BAcc: 0.7984, TAc:0.6837, TBAc: 0.7712, T:3.11 ETA:3582.11\n",
      " 145/1296, NE: 700, D: 1, Et:0.0600, MC:200, MB: 100, S:0.2500, CS:0.50, Acc:0.6905, BAcc: 0.8083, TAc:0.6885, TBAc: 0.7823, T:2.99 ETA:3438.65\n",
      " 146/1296, NE: 700, D: 1, Et:0.0600, MC:200, MB: 100, S:0.2500, CS:1.00, Acc:0.6906, BAcc: 0.8083, TAc:0.6880, TBAc: 0.7856, T:2.86 ETA:3287.77\n",
      " 147/1296, NE: 700, D: 1, Et:0.0600, MC:200, MB: 100, S:0.5000, CS:0.50, Acc:0.6851, BAcc: 0.8056, TAc:0.6837, TBAc: 0.7799, T:2.88 ETA:3312.85\n",
      " 148/1296, NE: 700, D: 1, Et:0.0600, MC:200, MB: 100, S:0.5000, CS:1.00, Acc:0.6857, BAcc: 0.8059, TAc:0.6849, TBAc: 0.7822, T:2.87 ETA:3293.06\n",
      " 149/1296, NE: 700, D: 1, Et:0.0600, MC:200, MB: 100, S:1.0000, CS:0.50, Acc:0.6809, BAcc: 0.8034, TAc:0.6789, TBAc: 0.7775, T:2.66 ETA:3050.84\n",
      " 150/1296, NE: 700, D: 1, Et:0.0600, MC:200, MB: 100, S:1.0000, CS:1.00, Acc:0.6804, BAcc: 0.8032, TAc:0.6789, TBAc: 0.7792, T:2.86 ETA:3275.99\n",
      " 151/1296, NE: 700, D: 1, Et:0.0600, MC:200, MB: 256, S:0.2500, CS:0.50, Acc:0.6912, BAcc: 0.8067, TAc:0.6883, TBAc: 0.7822, T:3.01 ETA:3449.15\n",
      " 152/1296, NE: 700, D: 1, Et:0.0600, MC:200, MB: 256, S:0.2500, CS:1.00, Acc:0.6921, BAcc: 0.8072, TAc:0.6893, TBAc: 0.7845, T:3.06 ETA:3505.85\n",
      " 153/1296, NE: 700, D: 1, Et:0.0600, MC:200, MB: 256, S:0.5000, CS:0.50, Acc:0.6865, BAcc: 0.8063, TAc:0.6833, TBAc: 0.7815, T:3.08 ETA:3525.59\n",
      " 154/1296, NE: 700, D: 1, Et:0.0600, MC:200, MB: 256, S:0.5000, CS:1.00, Acc:0.6878, BAcc: 0.8069, TAc:0.6845, TBAc: 0.7820, T:3.13 ETA:3579.89\n",
      " 155/1296, NE: 700, D: 1, Et:0.0600, MC:200, MB: 256, S:1.0000, CS:0.50, Acc:0.6831, BAcc: 0.8027, TAc:0.6804, TBAc: 0.7800, T:2.90 ETA:3305.82\n",
      " 156/1296, NE: 700, D: 1, Et:0.0600, MC:200, MB: 256, S:1.0000, CS:1.00, Acc:0.6823, BAcc: 0.8023, TAc:0.6793, TBAc: 0.7794, T:3.20 ETA:3651.07\n",
      " 157/1296, NE: 700, D: 1, Et:0.0600, MC:200, MB: 400, S:0.2500, CS:0.50, Acc:0.6908, BAcc: 0.8065, TAc:0.6891, TBAc: 0.7792, T:3.18 ETA:3617.91\n",
      " 158/1296, NE: 700, D: 1, Et:0.0600, MC:200, MB: 400, S:0.2500, CS:1.00, Acc:0.6914, BAcc: 0.8068, TAc:0.6897, TBAc: 0.7795, T:3.17 ETA:3610.76\n",
      " 159/1296, NE: 700, D: 1, Et:0.0600, MC:200, MB: 400, S:0.5000, CS:0.50, Acc:0.6864, BAcc: 0.8081, TAc:0.6841, TBAc: 0.7801, T:3.22 ETA:3656.89\n",
      " 160/1296, NE: 700, D: 1, Et:0.0600, MC:200, MB: 400, S:0.5000, CS:1.00, Acc:0.6869, BAcc: 0.8065, TAc:0.6853, TBAc: 0.7824, T:3.25 ETA:3688.09\n",
      " 161/1296, NE: 700, D: 1, Et:0.0600, MC:200, MB: 400, S:1.0000, CS:0.50, Acc:0.6819, BAcc: 0.8021, TAc:0.6799, TBAc: 0.7780, T:3.58 ETA:4058.75\n",
      " 162/1296, NE: 700, D: 1, Et:0.0600, MC:200, MB: 400, S:1.0000, CS:1.00, Acc:0.6818, BAcc: 0.8058, TAc:0.6801, TBAc: 0.7798, T:3.75 ETA:4251.72\n",
      " 163/1296, NE: 700, D: 2, Et:0.0600, MC:  1, MB: 100, S:0.2500, CS:0.50, Acc:0.7626, BAcc: 0.7974, TAc:0.7601, TBAc: 0.7611, T:4.65 ETA:5262.91\n",
      " 164/1296, NE: 700, D: 2, Et:0.0600, MC:  1, MB: 100, S:0.2500, CS:1.00, Acc:0.7659, BAcc: 0.7972, TAc:0.7642, TBAc: 0.7597, T:3.67 ETA:4159.36\n",
      " 165/1296, NE: 700, D: 2, Et:0.0600, MC:  1, MB: 100, S:0.5000, CS:0.50, Acc:0.7583, BAcc: 0.7971, TAc:0.7571, TBAc: 0.7631, T:3.48 ETA:3935.47\n",
      " 166/1296, NE: 700, D: 2, Et:0.0600, MC:  1, MB: 100, S:0.5000, CS:1.00, Acc:0.7643, BAcc: 0.7983, TAc:0.7608, TBAc: 0.7511, T:3.95 ETA:4463.05\n",
      " 167/1296, NE: 700, D: 2, Et:0.0600, MC:  1, MB: 100, S:1.0000, CS:0.50, Acc:0.7541, BAcc: 0.7969, TAc:0.7531, TBAc: 0.7559, T:3.78 ETA:4272.69\n",
      " 168/1296, NE: 700, D: 2, Et:0.0600, MC:  1, MB: 100, S:1.0000, CS:1.00, Acc:0.7593, BAcc: 0.7977, TAc:0.7581, TBAc: 0.7584, T:3.60 ETA:4061.64\n",
      " 169/1296, NE: 700, D: 2, Et:0.0600, MC:  1, MB: 256, S:0.2500, CS:0.50, Acc:0.7680, BAcc: 0.8096, TAc:0.7659, TBAc: 0.7589, T:3.88 ETA:4376.77\n",
      " 170/1296, NE: 700, D: 2, Et:0.0600, MC:  1, MB: 256, S:0.2500, CS:1.00, Acc:0.7705, BAcc: 0.7995, TAc:0.7680, TBAc: 0.7547, T:4.25 ETA:4780.19\n"
     ]
    }
   ],
   "source": [
    "combinations = list(product(*Hyperparam_Dict.values()))\n",
    "combo_n_score = []\n",
    "\n",
    "print(len(combinations))\n",
    "count = 0\n",
    "\n",
    "totaltime = time()\n",
    "for combo in combinations:\n",
    "    start = time()\n",
    "    combo_dict = {key:value for key, value in zip(Hyperparam_Dict.keys(), combo)}\n",
    "    xgb_classifier = xgb.XGBClassifier(\n",
    "                                   n_estimators=combo_dict[\"n_estimators\"],\n",
    "                                   objective=combo_dict[\"objective\"],\n",
    "                                   tree_method=combo_dict[\"tree_method\"],\n",
    "                                   eta=combo_dict[\"eta\"],\n",
    "                                   max_depth=combo_dict[\"max_depth\"],\n",
    "                                   enable_categorical=combo_dict[\"enable_categorical\"],\n",
    "                                   eval_metric =combo_dict[\"eval_metric\"],\n",
    "                                   verbosity=combo_dict[\"verbosity\"],\n",
    "                                   min_child_weight = combo_dict[\"min_child_weight\"],\n",
    "                                   max_bin = combo_dict[\"max_bin\"],\n",
    "                                   subsample = combo_dict[\"subsample\"],\n",
    "                                   colsample_bytree = combo_dict[\"colsample_bytree\"]\n",
    "                                      )\n",
    "    xgb_classifier.fit(split.trainx, split.trainy)\n",
    "\n",
    "    y_pred = xgb_classifier.predict(split.valx)\n",
    "    acc = accuracy_score(split.valy, y_pred)\n",
    "    b_acc = balanced_accuracy_score(split.valy , y_pred > .5)\n",
    "    \n",
    "    y_pred = xgb_classifier.predict(split.testx)\n",
    "    t_acc = accuracy_score(split.testy, y_pred)\n",
    "    tb_acc = balanced_accuracy_score(split.testy , y_pred > .5)\n",
    "    \n",
    "    combo_n_score.append([combo_dict,acc,b_acc,t_acc,tb_acc])\n",
    "    count += 1\n",
    "    train_time = time() - start\n",
    "    #print(combo_dict)\n",
    "    print(f\"{count:4d}/{len(combinations):4d}, NE:{combo_dict['n_estimators']:4d}, D:{combo_dict['max_depth']:2d}, Et:{combo_dict['eta']:.4f}, MC:{combo_dict['min_child_weight']:3d}, MB:{combo_dict['max_bin']:4d}, S:{combo_dict['subsample']:.4f}, CS:{combo_dict['colsample_bytree']:.2f}, Acc:{acc:.4f}, BAcc: {b_acc:.4f}, TAc:{t_acc:.4f}, TBAc: {tb_acc:.4f}, T:{train_time:.2f} ETA:{train_time*(len(combinations)-count):.2f}\")\n",
    "\n"
   ]
  },
  {
   "cell_type": "code",
   "execution_count": 24,
   "id": "28bb2aae-619b-48b1-9fbe-478fade4ea41",
   "metadata": {
    "tags": []
   },
   "outputs": [
    {
     "name": "stdout",
     "output_type": "stream",
     "text": [
      "0.7734466225412622\n",
      "[{'n_estimators': 100, 'objective': 'binary:logistic', 'tree_method': 'hist', 'eta': 0.001, 'max_depth': 2, 'enable_categorical': True, 'eval_metric': <function balanced_accuracy_score at 0x7f4c81e925c0>, 'verbosity': 0}, 0.6474465909702416, 0.7734466225412622, 0.6462453251540345, 0.7753997569056454]\n",
      "0.7753997569056454\n",
      "[{'n_estimators': 100, 'objective': 'binary:logistic', 'tree_method': 'hist', 'eta': 0.001, 'max_depth': 2, 'enable_categorical': True, 'eval_metric': <function balanced_accuracy_score at 0x7f4c81e925c0>, 'verbosity': 0}, 0.6474465909702416, 0.7734466225412622, 0.6462453251540345, 0.7753997569056454]\n",
      "0.7744231897234538\n",
      "[{'n_estimators': 100, 'objective': 'binary:logistic', 'tree_method': 'hist', 'eta': 0.001, 'max_depth': 2, 'enable_categorical': True, 'eval_metric': <function balanced_accuracy_score at 0x7f4c81e925c0>, 'verbosity': 0}, 0.6474465909702416, 0.7734466225412622, 0.6462453251540345, 0.7753997569056454]\n"
     ]
    }
   ],
   "source": [
    "max_b_acc = max(item[2] for item in combo_n_score)\n",
    "max_b_acc_index = [index for index, item in enumerate(combo_n_score) if item[2] == max_b_acc]\n",
    "\n",
    "max_tb_acc = max(item[4] for item in combo_n_score)\n",
    "max_tb_acc_index = [index for index, item in enumerate(combo_n_score) if item[4] == max_tb_acc]\n",
    "\n",
    "max_db_acc = max(((item[4]+item[2])/2) for item in combo_n_score)\n",
    "max_db_acc_index = [index for index, item in enumerate(combo_n_score) if (item[4]+item[2])/2 == max_db_acc]\n",
    "\n",
    "print(max_b_acc)\n",
    "print(combo_n_score[max_b_acc_index[0]])\n",
    "\n",
    "print(max_tb_acc)\n",
    "print(combo_n_score[max_tb_acc_index[0]])\n",
    "\n",
    "print(max_db_acc)\n",
    "print(combo_n_score[max_db_acc_index[0]])"
   ]
  },
  {
   "cell_type": "code",
   "execution_count": 25,
   "id": "2d39af03-723d-4afa-9d78-4d8f5102f925",
   "metadata": {
    "tags": []
   },
   "outputs": [],
   "source": [
    "combo_dict = combo_n_score[max_b_acc_index[0]][0]\n",
    "#xgb_classifier = xgb.XGBClassifier(\n",
    "#                               n_estimators=combo_dict[\"n_estimators\"],\n",
    "#                               objective=combo_dict[\"objective\"],\n",
    "#                               tree_method=combo_dict[\"tree_method\"],\n",
    "#                               eta=combo_dict[\"eta\"],\n",
    "#                               max_depth=combo_dict[\"max_depth\"],\n",
    "#                               enable_categorical=combo_dict[\"enable_categorical\"],\n",
    "#                               eval_metric =combo_dict[\"eval_metric\"],\n",
    "#                               verbosity=combo_dict[\"verbosity\"],\n",
    "#                                  )\n",
    "\n",
    "xgb_classifier = xgb.XGBClassifier(\n",
    "                               n_estimators=combo_dict[\"n_estimators\"],\n",
    "                               objective=combo_dict[\"objective\"],\n",
    "                               tree_method=combo_dict[\"tree_method\"],\n",
    "                               eta=combo_dict[\"eta\"],\n",
    "                               max_depth=combo_dict[\"max_depth\"],\n",
    "                               enable_categorical=combo_dict[\"enable_categorical\"],\n",
    "                               eval_metric =combo_dict[\"eval_metric\"],\n",
    "                               verbosity=combo_dict[\"verbosity\"],\n",
    "                               min_child_weight = combo_dict[\"min_child_weight\"],\n",
    "                               max_bin = combo_dict[\"max_bin\"],\n",
    "                               subsample = combo_dict[\"subsample\"],\n",
    "                               colsample_bytree = combo_dict[\"colsample_bytree\"]\n",
    "                                  )\n",
    "\n",
    "#Append val to train & retrain and then evaluate on test set\n",
    "#store this result to compare between diff hyperparam training sets\n",
    "#Resample the val set??\n"
   ]
  },
  {
   "cell_type": "code",
   "execution_count": 26,
   "id": "d918a0c9-07d9-4ce9-9987-76c530f5c136",
   "metadata": {
    "tags": []
   },
   "outputs": [
    {
     "name": "stdout",
     "output_type": "stream",
     "text": [
      "Num:    6, Estimators:  100, Depth:  2, Eta: 0.0010, Acc:0.6418, BAcc: 0.7748\n"
     ]
    }
   ],
   "source": [
    "train_val_x = pd.concat([split.trainx,split.valx])\n",
    "train_val_y = pd.concat([split.trainy,split.valy])\n",
    "\n",
    "xgb_classifier.fit(train_val_x, train_val_y)\n",
    "\n",
    "y_pred = xgb_classifier.predict(split.testx)\n",
    "acc = accuracy_score(split.testy, y_pred)\n",
    "b_acc = balanced_accuracy_score(split.testy , y_pred > .5)\n",
    "\n",
    "print(f\"Num: {count:4d}, Estimators: {combo_dict['n_estimators']:4d}, Depth: {combo_dict['max_depth']:2d}, Eta: {combo_dict['eta']:.4f}, Acc:{acc:.4f}, BAcc: {b_acc:.4f}\")"
   ]
  },
  {
   "cell_type": "markdown",
   "id": "75d8b098-c46f-4f2b-9dae-7cd3f7e74ae6",
   "metadata": {
    "tags": []
   },
   "source": [
    "# Submission"
   ]
  },
  {
   "cell_type": "code",
   "execution_count": 66,
   "id": "4214dbad-b109-40e5-81e9-cfbd874f7020",
   "metadata": {
    "tags": []
   },
   "outputs": [],
   "source": [
    "lb_data = leaderboard_data()\n",
    "#Adjust data"
   ]
  },
  {
   "cell_type": "code",
   "execution_count": 38,
   "id": "0456cd22-ab60-41fd-b213-b0c88db26251",
   "metadata": {},
   "outputs": [],
   "source": [
    "submission_BRF_model = BalancedRandomForestClassifier(max_depth=38, max_features='log2',min_samples_leaf=1,min_samples_split=5,n_estimators=50)"
   ]
  },
  {
   "cell_type": "markdown",
   "id": "2610d43b-50dc-4e43-bfdc-d86aefcec24e",
   "metadata": {
    "jp-MarkdownHeadingCollapsed": true,
    "tags": []
   },
   "source": [
    "# Submission BRF"
   ]
  },
  {
   "cell_type": "code",
   "execution_count": 35,
   "id": "db780deb-b137-4dd1-b0e8-97981999de22",
   "metadata": {},
   "outputs": [
    {
     "name": "stderr",
     "output_type": "stream",
     "text": [
      "/home/williamn/.conda/envs/ML-conda-env/lib/python3.11/site-packages/imblearn/ensemble/_forest.py:546: FutureWarning: The default of `sampling_strategy` will change from `'auto'` to `'all'` in version 0.13. This change will follow the implementation proposed in the original paper. Set to `'all'` to silence this warning and adopt the future behaviour.\n",
      "  warn(\n",
      "/home/williamn/.conda/envs/ML-conda-env/lib/python3.11/site-packages/imblearn/ensemble/_forest.py:558: FutureWarning: The default of `replacement` will change from `False` to `True` in version 0.13. This change will follow the implementation proposed in the original paper. Set to `True` to silence this warning and adopt the future behaviour.\n",
      "  warn(\n"
     ]
    },
    {
     "name": "stdout",
     "output_type": "stream",
     "text": [
      "<class 'pandas.core.frame.DataFrame'>\n",
      "Int64Index: 42593 entries, 0 to 42592\n",
      "Data columns (total 2 columns):\n",
      " #   Column     Non-Null Count  Dtype\n",
      "---  ------     --------------  -----\n",
      " 0   ID         42593 non-null  int64\n",
      " 1   connected  42593 non-null  bool \n",
      "dtypes: bool(1), int64(1)\n",
      "memory usage: 707.1 KB\n"
     ]
    }
   ],
   "source": [
    "# Submission BRF\n",
    "\n",
    "IDs = lb_data[\"ID\"]\n",
    "lb_data = Basic_FE(lb_data)\n",
    "#lb_data = xg_FE(lb_data)\n",
    "# oversample connected neuron pairs for full training data\n",
    "\n",
    "data = Input_Data()\n",
    "train_data = Basic_FE(data)\n",
    "#train_data = xg_FE(data)\n",
    "train_data = train_test(train_data)\n",
    "train_data.resample()\n",
    "\n",
    "# fit model\n",
    "#adaboost.fit(train_data.trainx, train_data.trainy)\n",
    "#gboost.fit(train_data.trainx, train_data.trainy)\n",
    "#xgb_classifier.fit(train_data.trainx, train_data.trainy)\n",
    "submission_BRF_model.fit(train_data.trainx, train_data.trainy)\n",
    "\n",
    "# predict on leaderboard data\n",
    "#lb_data[\"pred\"] = pipe.predict_proba(lb_data[[\"fw_similarity\", \"adp_dist\"]])[:, 1]\n",
    "#lb_data[\"pred\"] = gboost.predict(lb_data)\n",
    "#lb_data[\"pred\"] = xgb_classifier.predict(lb_data)\n",
    "lb_data[\"pred\"] = submission_BRF_model.predict(lb_data)\n",
    "\n",
    "lb_data[\"ID\"]=IDs\n",
    "\n",
    "#create a boolean prediction solution\n",
    "lb_data[\"connected\"] = lb_data[\"pred\"] > .5\n",
    "\n",
    "#columns should be ID, connected\n",
    "submission_data = lb_data.filter(['ID','connected'])\n",
    "submission_data.info()"
   ]
  },
  {
   "cell_type": "markdown",
   "id": "885bf3b7-a498-4fa8-a1af-d18f6c007130",
   "metadata": {},
   "source": [
    "# Submission XGboost"
   ]
  },
  {
   "cell_type": "code",
   "execution_count": 67,
   "id": "12c269f5-3678-4ee8-becb-370508536b7b",
   "metadata": {
    "tags": []
   },
   "outputs": [
    {
     "name": "stderr",
     "output_type": "stream",
     "text": [
      "/home/williamn/Rice/Classes/Intro to Machine Learning/Competition/Code/Data_Processing.py:122: SettingWithCopyWarning: \n",
      "A value is trying to be set on a copy of a slice from a DataFrame.\n",
      "Try using .loc[row_indexer,col_indexer] = value instead\n",
      "\n",
      "See the caveats in the documentation: https://pandas.pydata.org/pandas-docs/stable/user_guide/indexing.html#returning-a-view-versus-a-copy\n",
      "  df[\"same_cluster\"] = df[\"same_clust\"].astype(\"category\")\n",
      "/home/williamn/Rice/Classes/Intro to Machine Learning/Competition/Code/Data_Processing.py:122: SettingWithCopyWarning: \n",
      "A value is trying to be set on a copy of a slice from a DataFrame.\n",
      "Try using .loc[row_indexer,col_indexer] = value instead\n",
      "\n",
      "See the caveats in the documentation: https://pandas.pydata.org/pandas-docs/stable/user_guide/indexing.html#returning-a-view-versus-a-copy\n",
      "  df[\"same_cluster\"] = df[\"same_clust\"].astype(\"category\")\n"
     ]
    },
    {
     "name": "stdout",
     "output_type": "stream",
     "text": [
      "<class 'pandas.core.frame.DataFrame'>\n",
      "Int64Index: 42593 entries, 0 to 42592\n",
      "Data columns (total 2 columns):\n",
      " #   Column     Non-Null Count  Dtype\n",
      "---  ------     --------------  -----\n",
      " 0   ID         42593 non-null  int64\n",
      " 1   connected  42593 non-null  bool \n",
      "dtypes: bool(1), int64(1)\n",
      "memory usage: 707.1 KB\n"
     ]
    }
   ],
   "source": [
    "# Submission XGboost\n",
    "IDs = lb_data[\"ID\"]\n",
    "lb_data = xg_FE(lb_data)\n",
    "# oversample connected neuron pairs for full training data\n",
    "\n",
    "data = Input_Data()\n",
    "train_data = xg_FE(data)\n",
    "train_data = train(train_data)\n",
    "train_data.resample()\n",
    "\n",
    "# fit model\n",
    "xgb_classifier.fit(train_data.trainx, train_data.trainy)\n",
    "\n",
    "# predict on leaderboard data\n",
    "#lb_data[\"pred\"] = pipe.predict_proba(lb_data[[\"fw_similarity\", \"adp_dist\"]])[:, 1]\n",
    "#lb_data[\"pred\"] = gboost.predict(lb_data)\n",
    "lb_data[\"pred\"] = xgb_classifier.predict(lb_data)\n",
    "\n",
    "lb_data[\"ID\"]=IDs\n",
    "\n",
    "#create a boolean prediction solution\n",
    "lb_data[\"connected\"] = lb_data[\"pred\"] > .5\n",
    "\n",
    "#columns should be ID, connected\n",
    "submission_data = lb_data.filter(['ID','connected'])\n",
    "submission_data.info()"
   ]
  },
  {
   "cell_type": "code",
   "execution_count": 69,
   "id": "9cfb45ea-7f57-4e14-8357-4d59a1f08244",
   "metadata": {
    "tags": []
   },
   "outputs": [],
   "source": [
    "#writing csv files\n",
    "submission_data.to_csv('BoostedD.csv',index=False)"
   ]
  },
  {
   "cell_type": "code",
   "execution_count": null,
   "id": "ab39b80b-42a4-4292-aa69-f752da139136",
   "metadata": {},
   "outputs": [],
   "source": []
  }
 ],
 "metadata": {
  "kernelspec": {
   "display_name": "ML-conda-env-kernel",
   "language": "python",
   "name": "ml-conda-env-kernel"
  },
  "language_info": {
   "codemirror_mode": {
    "name": "ipython",
    "version": 3
   },
   "file_extension": ".py",
   "mimetype": "text/x-python",
   "name": "python",
   "nbconvert_exporter": "python",
   "pygments_lexer": "ipython3",
   "version": "3.11.5"
  }
 },
 "nbformat": 4,
 "nbformat_minor": 5
}
