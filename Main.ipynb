{
 "cells": [
  {
   "cell_type": "code",
   "execution_count": 16,
   "id": "91089bfc-7906-4537-8837-13b3ea30ff4f",
   "metadata": {},
   "outputs": [],
   "source": [
    "from Data_Input import Input_Data, leaderboard_data\n",
    "from Data_Processing import Basic_FE\n",
    "from Data_Splitting import train_test, train_test_val\n",
    "import numpy as np\n",
    "import pandas as pd\n",
    "import importlib\n",
    "\n",
    "\n",
    "#If things aren't working, restart kernel to force it to update imports\n",
    "#because python is dumb!"
   ]
  },
  {
   "cell_type": "code",
   "execution_count": 17,
   "id": "f2921975-55a6-4c1a-b825-0d591e152f61",
   "metadata": {
    "tags": []
   },
   "outputs": [],
   "source": [
    "# Inputs and processes data\n",
    "data = Input_Data()\n",
    "p_data = Basic_FE(data)\n",
    "#processed_data.info()\n"
   ]
  },
  {
   "cell_type": "code",
   "execution_count": 18,
   "id": "f58d4d6a-6754-400f-b8d9-f8c191adbcc8",
   "metadata": {
    "tags": []
   },
   "outputs": [],
   "source": [
    "#Splits and resamples data\n",
    "#split = train_test_val(p_data, 0.2,0.1)\n",
    "split = train_test(p_data, 0.2)\n",
    "split.resample()"
   ]
  },
  {
   "cell_type": "code",
   "execution_count": 19,
   "id": "03a70258-fd12-4931-87d3-39e9586bcdfb",
   "metadata": {
    "tags": []
   },
   "outputs": [],
   "source": [
    "#Fits and tests data"
   ]
  },
  {
   "cell_type": "markdown",
   "id": "315affb7-a682-4558-8aaf-68ffab12034c",
   "metadata": {},
   "source": [
    "# Basic Idea\n",
    "Make assumptions (feature engineering, what else..?)\n",
    "Run models (test assumptions)"
   ]
  },
  {
   "cell_type": "code",
   "execution_count": 20,
   "id": "275ca473-6240-44c1-b61a-ba4c8bbe7443",
   "metadata": {},
   "outputs": [],
   "source": [
    "# Do different ML systems in separate files\n",
    "# Make a submission file as well\n",
    "# Bootstrapping option\n",
    "# Make ML model class to interface with rest of stuff\n",
    "\n",
    "\n",
    "\n",
    "\n",
    "#Basic structure:\n",
    "\n",
    "#X_test Y_test X_train_ Y_train\n",
    "\n",
    "#import model1 from model1\n",
    "#import model2 from model2\n",
    "#\n",
    "#models = [model1,model2,]\n",
    "#\n",
    "# for model in models:\n",
    "# model1(processed_data) (prints data)"
   ]
  },
  {
   "cell_type": "code",
   "execution_count": 23,
   "id": "f253578a-2fec-4969-8073-6adaab4c8745",
   "metadata": {
    "tags": []
   },
   "outputs": [
    {
     "ename": "NameError",
     "evalue": "name 'y_test' is not defined",
     "output_type": "error",
     "traceback": [
      "\u001b[0;31m---------------------------------------------------------------------------\u001b[0m",
      "\u001b[0;31mNameError\u001b[0m                                 Traceback (most recent call last)",
      "Cell \u001b[0;32mIn[23], line 17\u001b[0m\n\u001b[1;32m     14\u001b[0m y_pred \u001b[38;5;241m=\u001b[39m adaboost\u001b[38;5;241m.\u001b[39mpredict(split\u001b[38;5;241m.\u001b[39mtestx)\n\u001b[1;32m     16\u001b[0m \u001b[38;5;66;03m# Calculate the accuracy\u001b[39;00m\n\u001b[0;32m---> 17\u001b[0m accuracy \u001b[38;5;241m=\u001b[39m accuracy_score(y_test, y_pred)\n\u001b[1;32m     18\u001b[0m \u001b[38;5;28mprint\u001b[39m(\u001b[38;5;124mf\u001b[39m\u001b[38;5;124m\"\u001b[39m\u001b[38;5;124mAccuracy: \u001b[39m\u001b[38;5;132;01m{\u001b[39;00maccuracy\u001b[38;5;132;01m:\u001b[39;00m\u001b[38;5;124m.2f\u001b[39m\u001b[38;5;132;01m}\u001b[39;00m\u001b[38;5;124m\"\u001b[39m)\n",
      "\u001b[0;31mNameError\u001b[0m: name 'y_test' is not defined"
     ]
    }
   ],
   "source": [
    "from sklearn.ensemble import AdaBoostClassifier\n",
    "from sklearn.tree import DecisionTreeClassifier\n",
    "from sklearn.datasets import make_classification\n",
    "from sklearn.model_selection import train_test_split\n",
    "from sklearn.metrics import balanced_accuracy_score, accuracy_score, confusion_matrix\n",
    "\n",
    "# Create AdaBoostClassifier with DecisionTreeClassifier as the base estimator\n",
    "base_estimator = DecisionTreeClassifier(max_depth=1)  # Decision Stump\n",
    "adaboost = AdaBoostClassifier(estimator=base_estimator, n_estimators=150, random_state=42)\n",
    "adaboost.fit(split.trainx, split.trainy, )\n",
    "\n",
    "\n",
    "# Predict on the test data\n",
    "y_pred = adaboost.predict(split.testx)\n",
    "\n",
    "# Calculate the accuracy\n",
    "accuracy = accuracy_score(y_test, y_pred)\n",
    "print(f\"Accuracy: {accuracy:.2f}\")"
   ]
  },
  {
   "cell_type": "code",
   "execution_count": 24,
   "id": "5e2c8431-1f92-453e-8e6f-620d7b860b57",
   "metadata": {
    "tags": []
   },
   "outputs": [
    {
     "name": "stdout",
     "output_type": "stream",
     "text": [
      "[[26947  9949]\n",
      " [   53   218]]\n",
      "Accuracy: 0.73\n",
      "Balanced Accuracy: 0.7673891088704903\n"
     ]
    }
   ],
   "source": [
    "# Calculate the accuracy\n",
    "accuracy = accuracy_score(split.testy, y_pred)\n",
    "# confusion matrix\n",
    "print(confusion_matrix(split.testy, y_pred > .5))\n",
    "print(f\"Accuracy: {accuracy:.2f}\")\n",
    "print(\n",
    "    f\"Balanced Accuracy: {balanced_accuracy_score(split.testy, y_pred > .5)}\"\n",
    ")"
   ]
  },
  {
   "cell_type": "code",
   "execution_count": 11,
   "id": "4214dbad-b109-40e5-81e9-cfbd874f7020",
   "metadata": {
    "tags": []
   },
   "outputs": [],
   "source": [
    "\n",
    "lb_data = leaderboard_data()\n",
    "#Adjust data"
   ]
  },
  {
   "cell_type": "code",
   "execution_count": 12,
   "id": "02324974-1151-4756-af3a-4911da88eaa3",
   "metadata": {
    "tags": []
   },
   "outputs": [
    {
     "data": {
      "text/plain": [
       "['ID',\n",
       " 'axonal_coor_x',\n",
       " 'axonal_coor_y',\n",
       " 'axonal_coor_z',\n",
       " 'dendritic_coor_x',\n",
       " 'dendritic_coor_y',\n",
       " 'dendritic_coor_z',\n",
       " 'adp_dist',\n",
       " 'post_skeletal_distance_to_soma',\n",
       " 'pre_skeletal_distance_to_soma',\n",
       " 'pre_oracle',\n",
       " 'pre_test_score',\n",
       " 'pre_rf_x',\n",
       " 'pre_rf_y',\n",
       " 'post_oracle',\n",
       " 'post_test_score',\n",
       " 'post_rf_x',\n",
       " 'post_rf_y',\n",
       " 'compartment',\n",
       " 'pre_brain_area',\n",
       " 'post_brain_area',\n",
       " 'pre_nucleus_x',\n",
       " 'pre_nucleus_y',\n",
       " 'pre_nucleus_z',\n",
       " 'post_nucleus_x',\n",
       " 'post_nucleus_y',\n",
       " 'post_nucleus_z',\n",
       " 'pre_nucleus_id',\n",
       " 'post_nucleus_id',\n",
       " 'pre_feature_weights',\n",
       " 'post_feature_weights',\n",
       " 'pre_morph_embeddings',\n",
       " 'post_morph_embeddings']"
      ]
     },
     "execution_count": 12,
     "metadata": {},
     "output_type": "execute_result"
    }
   ],
   "source": [
    "list(lb_data)"
   ]
  },
  {
   "cell_type": "code",
   "execution_count": 13,
   "id": "db780deb-b137-4dd1-b0e8-97981999de22",
   "metadata": {},
   "outputs": [
    {
     "name": "stdout",
     "output_type": "stream",
     "text": [
      "<class 'pandas.core.frame.DataFrame'>\n",
      "RangeIndex: 42593 entries, 0 to 42592\n",
      "Data columns (total 2 columns):\n",
      " #   Column     Non-Null Count  Dtype\n",
      "---  ------     --------------  -----\n",
      " 0   ID         42593 non-null  int64\n",
      " 1   connected  42593 non-null  bool \n",
      "dtypes: bool(1), int64(1)\n",
      "memory usage: 374.5 KB\n"
     ]
    }
   ],
   "source": [
    "# Submission\n",
    "\n",
    "IDs = lb_data[\"ID\"]\n",
    "lb_data = Basic_FE(lb_data)\n",
    "# oversample connected neuron pairs for full training data\n",
    "\n",
    "data = Input_Data()\n",
    "train_data = Basic_FE(data)\n",
    "train_data = train_test(train_data)\n",
    "train_data.resample()\n",
    "\n",
    "# fit model\n",
    "adaboost.fit(train_data.trainx, train_data.trainy)\n",
    "\n",
    "# predict on leaderboard data\n",
    "#lb_data[\"pred\"] = pipe.predict_proba(lb_data[[\"fw_similarity\", \"adp_dist\"]])[:, 1]\n",
    "lb_data[\"pred\"] = adaboost.predict(lb_data)\n",
    "lb_data[\"ID\"]=IDs\n",
    "\n",
    "#create a boolean prediction solution\n",
    "lb_data[\"connected\"] = lb_data[\"pred\"] > .5\n",
    "\n",
    "#columns should be ID, connected\n",
    "submission_data = lb_data.filter(['ID','connected'])\n",
    "submission_data.info()"
   ]
  },
  {
   "cell_type": "code",
   "execution_count": 14,
   "id": "9cfb45ea-7f57-4e14-8357-4d59a1f08244",
   "metadata": {
    "tags": []
   },
   "outputs": [],
   "source": [
    "#writing csv files\n",
    "submission_data.to_csv('tbd5.csv',index=False)"
   ]
  },
  {
   "cell_type": "code",
   "execution_count": null,
   "id": "ab39b80b-42a4-4292-aa69-f752da139136",
   "metadata": {},
   "outputs": [],
   "source": []
  }
 ],
 "metadata": {
  "kernelspec": {
   "display_name": "Python 3 (ipykernel)",
   "language": "python",
   "name": "python3"
  },
  "language_info": {
   "codemirror_mode": {
    "name": "ipython",
    "version": 3
   },
   "file_extension": ".py",
   "mimetype": "text/x-python",
   "name": "python",
   "nbconvert_exporter": "python",
   "pygments_lexer": "ipython3",
   "version": "3.11.4"
  }
 },
 "nbformat": 4,
 "nbformat_minor": 5
}
