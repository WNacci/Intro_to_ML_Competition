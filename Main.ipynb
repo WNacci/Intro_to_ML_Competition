{
 "cells": [
  {
   "cell_type": "code",
   "execution_count": 1,
   "id": "91089bfc-7906-4537-8837-13b3ea30ff4f",
   "metadata": {},
   "outputs": [],
   "source": [
    "from Data_Input import Input_Data \n",
    "from Data_Processing import Process_Data\n",
    "import numpy as np\n",
    "import pandas as pd\n",
    "\n",
    "#If things aren't working, restart kernel to force it to update imports\n",
    "#because python is dumb!"
   ]
  },
  {
   "cell_type": "code",
   "execution_count": 2,
   "id": "f2921975-55a6-4c1a-b825-0d591e152f61",
   "metadata": {
    "tags": []
   },
   "outputs": [],
   "source": [
    "data = Input_Data()\n",
    "processed_data = Process_Data(data)"
   ]
  },
  {
   "cell_type": "code",
   "execution_count": 3,
   "id": "0671e5d4-5125-42ee-b2dd-c565b1b752f6",
   "metadata": {
    "tags": []
   },
   "outputs": [
    {
     "name": "stdout",
     "output_type": "stream",
     "text": [
      "<class 'pandas.core.frame.DataFrame'>\n",
      "RangeIndex: 185832 entries, 0 to 185831\n",
      "Data columns (total 46 columns):\n",
      " #   Column                          Non-Null Count   Dtype  \n",
      "---  ------                          --------------   -----  \n",
      " 0   axonal_coor_x                   185832 non-null  int64  \n",
      " 1   axonal_coor_y                   185832 non-null  int64  \n",
      " 2   axonal_coor_z                   185832 non-null  int64  \n",
      " 3   dendritic_coor_x                185832 non-null  int64  \n",
      " 4   dendritic_coor_y                185832 non-null  int64  \n",
      " 5   dendritic_coor_z                185832 non-null  int64  \n",
      " 6   adp_dist                        185832 non-null  float64\n",
      " 7   post_skeletal_distance_to_soma  185832 non-null  float64\n",
      " 8   pre_skeletal_distance_to_soma   185832 non-null  float64\n",
      " 9   pre_oracle                      185832 non-null  float64\n",
      " 10  pre_test_score                  185832 non-null  float64\n",
      " 11  pre_rf_x                        185832 non-null  float64\n",
      " 12  pre_rf_y                        185832 non-null  float64\n",
      " 13  post_oracle                     185832 non-null  float64\n",
      " 14  post_test_score                 185832 non-null  float64\n",
      " 15  post_rf_x                       185832 non-null  float64\n",
      " 16  post_rf_y                       185832 non-null  float64\n",
      " 17  pre_nucleus_x                   185832 non-null  int64  \n",
      " 18  pre_nucleus_y                   185832 non-null  int64  \n",
      " 19  pre_nucleus_z                   185832 non-null  int64  \n",
      " 20  post_nucleus_x                  185832 non-null  int64  \n",
      " 21  post_nucleus_y                  185832 non-null  int64  \n",
      " 22  post_nucleus_z                  185832 non-null  int64  \n",
      " 23  pre_nucleus_id                  185832 non-null  int64  \n",
      " 24  post_nucleus_id                 185832 non-null  int64  \n",
      " 25  connected                       185832 non-null  bool   \n",
      " 26  fw_similarity                   185832 non-null  float64\n",
      " 27  morph_similarity                185832 non-null  float64\n",
      " 28  rf_x_similarity                 185832 non-null  float64\n",
      " 29  rf_y_similarity                 185832 non-null  float64\n",
      " 30  projection_group_AL->AL         185832 non-null  float64\n",
      " 31  projection_group_AL->RL         185832 non-null  float64\n",
      " 32  projection_group_AL->V1         185832 non-null  float64\n",
      " 33  projection_group_RL->AL         185832 non-null  float64\n",
      " 34  projection_group_RL->RL         185832 non-null  float64\n",
      " 35  projection_group_RL->V1         185832 non-null  float64\n",
      " 36  projection_group_V1->AL         185832 non-null  float64\n",
      " 37  projection_group_V1->RL         185832 non-null  float64\n",
      " 38  projection_group_V1->V1         185832 non-null  float64\n",
      " 39  compartment_apical              185832 non-null  float64\n",
      " 40  compartment_apical_shaft        185832 non-null  float64\n",
      " 41  compartment_apical_tuft         185832 non-null  float64\n",
      " 42  compartment_axon                185832 non-null  float64\n",
      " 43  compartment_basal               185832 non-null  float64\n",
      " 44  compartment_oblique             185832 non-null  float64\n",
      " 45  compartment_soma                185832 non-null  float64\n",
      "dtypes: bool(1), float64(31), int64(14)\n",
      "memory usage: 64.0 MB\n"
     ]
    }
   ],
   "source": [
    "processed_data.info()"
   ]
  },
  {
   "cell_type": "code",
   "execution_count": null,
   "id": "275ca473-6240-44c1-b61a-ba4c8bbe7443",
   "metadata": {},
   "outputs": [],
   "source": [
    "# Add data splitting and sampling step here\n",
    "# Do different ML systems in separate files\n",
    "# Make a submission file as well"
   ]
  }
 ],
 "metadata": {
  "kernelspec": {
   "display_name": "Python 3 (ipykernel)",
   "language": "python",
   "name": "python3"
  },
  "language_info": {
   "codemirror_mode": {
    "name": "ipython",
    "version": 3
   },
   "file_extension": ".py",
   "mimetype": "text/x-python",
   "name": "python",
   "nbconvert_exporter": "python",
   "pygments_lexer": "ipython3",
   "version": "3.11.4"
  }
 },
 "nbformat": 4,
 "nbformat_minor": 5
}
